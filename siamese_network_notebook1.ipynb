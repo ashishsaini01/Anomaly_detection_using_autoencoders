{
  "nbformat": 4,
  "nbformat_minor": 0,
  "metadata": {
    "colab": {
      "provenance": [],
      "collapsed_sections": [],
      "authorship_tag": "ABX9TyMmGo5aakCEFvej2VeHJYVx",
      "include_colab_link": true
    },
    "kernelspec": {
      "name": "python3",
      "display_name": "Python 3"
    },
    "language_info": {
      "name": "python"
    }
  },
  "cells": [
    {
      "cell_type": "markdown",
      "metadata": {
        "id": "view-in-github",
        "colab_type": "text"
      },
      "source": [
        "<a href=\"https://colab.research.google.com/github/ashishsaini01/Anomaly_detection_using_autoencoders/blob/main/siamese_network_notebook1.ipynb\" target=\"_parent\"><img src=\"https://colab.research.google.com/assets/colab-badge.svg\" alt=\"Open In Colab\"/></a>"
      ]
    },
    {
      "cell_type": "code",
      "execution_count": 52,
      "metadata": {
        "id": "L1d4bdfAsJi2"
      },
      "outputs": [],
      "source": [
        "import numpy as np\n",
        "import tensorflow as tf\n",
        "import tensorflow.keras.backend as k\n",
        "import matplotlib.pyplot as plt\n",
        "import random"
      ]
    },
    {
      "cell_type": "code",
      "source": [
        "# mounting google drive for easy data reading\n",
        "from google.colab import drive\n",
        "drive.mount('/content/drive')"
      ],
      "metadata": {
        "colab": {
          "base_uri": "https://localhost:8080/"
        },
        "id": "BfiOL5ToZL_L",
        "outputId": "d5cbce77-d4be-451b-c007-efed668bb804"
      },
      "execution_count": 53,
      "outputs": [
        {
          "output_type": "stream",
          "name": "stdout",
          "text": [
            "Drive already mounted at /content/drive; to attempt to forcibly remount, call drive.mount(\"/content/drive\", force_remount=True).\n"
          ]
        }
      ]
    },
    {
      "cell_type": "code",
      "source": [
        "data = np.load('/content/drive/MyDrive/compress7.npz')\n",
        "x, g, tx, ty, i, gi, ti = data['x'], data['gx'], data['tx'], data['ty'], data['i'], data['gi'], data['ti']"
      ],
      "metadata": {
        "id": "tDoyDRhtbef-"
      },
      "execution_count": 54,
      "outputs": []
    },
    {
      "cell_type": "code",
      "source": [
        "# from re import X\n",
        "def create_batch(batch_size=500):\n",
        "    x_anchors = np.zeros((batch_size, 32, 96, 3))\n",
        "    x_positives = np.zeros((batch_size, 32, 96, 3))\n",
        "    x_negatives = np.zeros((batch_size, 32, 96, 3))\n",
        "    \n",
        "    for j in range(0, batch_size):\n",
        "        # We need to find an anchor, a positive example and a negative example\n",
        "        random_index = random.randint(0, x.shape[0] - 1)\n",
        "        x_anchor = x[random_index]\n",
        "\n",
        "        pos_index = random.randint(0, x.shape[0] - 1)\n",
        "\n",
        "        while pos_index == random_index or i[pos_index] != i[random_index]:\n",
        "          pos_index = random.randint(0, x.shape[0] - 1)\n",
        "\n",
        "        x_positive = x[pos_index]  # also for the same pallet block\n",
        "        \n",
        "        random_index_neg = random.randint(0, x.shape[0] - 1)\n",
        "\n",
        "        while random_index_neg == random_index or i[random_index] == i[random_index_neg]:\n",
        "          random_index_neg = random.randint(0, x.shape[0] - 1)\n",
        "         \n",
        "        x_negative = x[random_index_neg]\n",
        "        \n",
        "        x_anchors[j] = x_anchor\n",
        "        x_positives[j] = x_positive\n",
        "        x_negatives[j] = x_negative\n",
        "        \n",
        "    x_anchors = np.expand_dims(x_anchors, axis = 1)\n",
        "    x_positives = np.expand_dims(x_positives, axis = 1)\n",
        "    x_negatives = np.expand_dims(x_negatives, axis = 1)\n",
        "\n",
        "    k = np.concatenate([x_anchors, x_positives, x_negatives], axis = 1)\n",
        "        \n",
        "    return k"
      ],
      "metadata": {
        "id": "fWh3D4RFmcC3"
      },
      "execution_count": 55,
      "outputs": []
    },
    {
      "cell_type": "code",
      "source": [
        "examples = create_batch(1)\n",
        "# plot_triplets(examples)"
      ],
      "metadata": {
        "id": "nwIrnP0Lmb7p"
      },
      "execution_count": null,
      "outputs": []
    },
    {
      "cell_type": "code",
      "source": [
        "examples.shape"
      ],
      "metadata": {
        "colab": {
          "base_uri": "https://localhost:8080/"
        },
        "id": "lVSGjxr0pQ6z",
        "outputId": "3d7e09c1-47a4-4580-bd46-8dcf53fc63ec"
      },
      "execution_count": null,
      "outputs": [
        {
          "output_type": "execute_result",
          "data": {
            "text/plain": [
              "(1, 3, 32, 96, 3)"
            ]
          },
          "metadata": {},
          "execution_count": 6
        }
      ]
    },
    {
      "cell_type": "code",
      "source": [
        "dim = 10\n",
        "alpha = 100"
      ],
      "metadata": {
        "id": "szB1PTliII1s"
      },
      "execution_count": null,
      "outputs": []
    },
    {
      "cell_type": "code",
      "source": [
        "# Embedding model\n",
        "emb_size = 64\n",
        "\n",
        "embedding_model = tf.keras.models.Sequential([\n",
        "    tf.keras.layers.Conv2D(64, (3, 3), activation = 'relu', strides = 2, padding = 'same', input_shape = (32, 96, 3)),\n",
        "    tf.keras.layers.Conv2D(32, (3, 3), activation = 'relu', strides = 2, padding = 'same'),\n",
        "    tf.keras.layers.Flatten(),\n",
        "    tf.keras.layers.Dense(64, activation = 'relu'),\n",
        "    tf.keras.layers.Dense(emb_size, activation = 'sigmoid')\n",
        "])\n",
        "\n",
        "embedding_model.summary()\n",
        "\n",
        "# input_layer1 = tf.keras.layers.Input(shape = tri_data.shape[2:])"
      ],
      "metadata": {
        "colab": {
          "base_uri": "https://localhost:8080/"
        },
        "id": "fxZREdsriPjL",
        "outputId": "b3f473b3-df2e-4add-9e5a-53b6a85db0c4"
      },
      "execution_count": 56,
      "outputs": [
        {
          "output_type": "stream",
          "name": "stdout",
          "text": [
            "Model: \"sequential\"\n",
            "_________________________________________________________________\n",
            " Layer (type)                Output Shape              Param #   \n",
            "=================================================================\n",
            " conv2d (Conv2D)             (None, 16, 48, 64)        1792      \n",
            "                                                                 \n",
            " conv2d_1 (Conv2D)           (None, 8, 24, 32)         18464     \n",
            "                                                                 \n",
            " flatten (Flatten)           (None, 6144)              0         \n",
            "                                                                 \n",
            " dense (Dense)               (None, 64)                393280    \n",
            "                                                                 \n",
            " dense_1 (Dense)             (None, 64)                4160      \n",
            "                                                                 \n",
            "=================================================================\n",
            "Total params: 417,696\n",
            "Trainable params: 417,696\n",
            "Non-trainable params: 0\n",
            "_________________________________________________________________\n"
          ]
        }
      ]
    },
    {
      "cell_type": "code",
      "source": [
        "# siamese network\n",
        "siamese_input = tf.keras.Input(shape = (3, 32, 96, 3))\n",
        "input_anchor =  siamese_input[:, 0]                                              #tf.keras.layers.Input(shape=(32, 96, 3))\n",
        "input_positive = siamese_input[:, 1]                                             #tf.keras.layers.Input(shape=(32, 96, 3))\n",
        "input_negative = siamese_input[:, 2]                                             #tf.keras.layers.Input(shape=(32, 96, 3))\n",
        "\n",
        "embedding_anchor = embedding_model(input_anchor)\n",
        "embedding_positive = embedding_model(input_positive)\n",
        "embedding_negative = embedding_model(input_negative)\n",
        "\n",
        "embedding_anchor = k.expand_dims(embedding_anchor, 1)\n",
        "embedding_negative = k.expand_dims(embedding_negative, 1)\n",
        "embedding_positive = k.expand_dims(embedding_positive, 1)\n",
        "\n",
        "\n",
        "output = tf.keras.layers.concatenate([embedding_anchor, embedding_positive, embedding_negative], axis=1) \n",
        "\n",
        "model = tf.keras.models.Model(siamese_input, output)\n",
        "model.summary()"
      ],
      "metadata": {
        "colab": {
          "base_uri": "https://localhost:8080/"
        },
        "id": "42xAebLSjdsH",
        "outputId": "9c7ef01a-62c2-4b66-86ef-587e2fe230be"
      },
      "execution_count": 57,
      "outputs": [
        {
          "output_type": "stream",
          "name": "stdout",
          "text": [
            "Model: \"model\"\n",
            "__________________________________________________________________________________________________\n",
            " Layer (type)                   Output Shape         Param #     Connected to                     \n",
            "==================================================================================================\n",
            " input_1 (InputLayer)           [(None, 3, 32, 96,   0           []                               \n",
            "                                3)]                                                               \n",
            "                                                                                                  \n",
            " tf.__operators__.getitem (Slic  (None, 32, 96, 3)   0           ['input_1[0][0]']                \n",
            " ingOpLambda)                                                                                     \n",
            "                                                                                                  \n",
            " tf.__operators__.getitem_1 (Sl  (None, 32, 96, 3)   0           ['input_1[0][0]']                \n",
            " icingOpLambda)                                                                                   \n",
            "                                                                                                  \n",
            " tf.__operators__.getitem_2 (Sl  (None, 32, 96, 3)   0           ['input_1[0][0]']                \n",
            " icingOpLambda)                                                                                   \n",
            "                                                                                                  \n",
            " sequential (Sequential)        (None, 64)           417696      ['tf.__operators__.getitem[0][0]'\n",
            "                                                                 , 'tf.__operators__.getitem_1[0][\n",
            "                                                                 0]',                             \n",
            "                                                                  'tf.__operators__.getitem_2[0][0\n",
            "                                                                 ]']                              \n",
            "                                                                                                  \n",
            " tf.expand_dims (TFOpLambda)    (None, 1, 64)        0           ['sequential[0][0]']             \n",
            "                                                                                                  \n",
            " tf.expand_dims_2 (TFOpLambda)  (None, 1, 64)        0           ['sequential[1][0]']             \n",
            "                                                                                                  \n",
            " tf.expand_dims_1 (TFOpLambda)  (None, 1, 64)        0           ['sequential[2][0]']             \n",
            "                                                                                                  \n",
            " concatenate (Concatenate)      (None, 3, 64)        0           ['tf.expand_dims[0][0]',         \n",
            "                                                                  'tf.expand_dims_2[0][0]',       \n",
            "                                                                  'tf.expand_dims_1[0][0]']       \n",
            "                                                                                                  \n",
            "==================================================================================================\n",
            "Total params: 417,696\n",
            "Trainable params: 417,696\n",
            "Non-trainable params: 0\n",
            "__________________________________________________________________________________________________\n"
          ]
        }
      ]
    },
    {
      "cell_type": "code",
      "source": [
        "alpha = 0.05\n",
        "pos = k.mean((embedding_anchor - embedding_positive)**2, axis = 1)\n",
        "neg = k.mean((embedding_anchor - embedding_negative)**2, axis = 1)\n",
        "loss = k.mean(k.relu(pos - neg + alpha)) "
      ],
      "metadata": {
        "id": "HWixrUxt7tHe"
      },
      "execution_count": 58,
      "outputs": []
    },
    {
      "cell_type": "code",
      "source": [
        "batch_size=5000\n",
        "x_train = create_batch(batch_size)\n",
        "# x_train = np.array(x_train)\n",
        "x_train.shape"
      ],
      "metadata": {
        "id": "eAVsGL_DFRCr",
        "colab": {
          "base_uri": "https://localhost:8080/"
        },
        "outputId": "9dfd47db-2d03-4f82-fb73-a96ac699de70"
      },
      "execution_count": 59,
      "outputs": [
        {
          "output_type": "execute_result",
          "data": {
            "text/plain": [
              "(5000, 3, 32, 96, 3)"
            ]
          },
          "metadata": {},
          "execution_count": 59
        }
      ]
    },
    {
      "cell_type": "code",
      "source": [
        "# batch_size = 2048\n",
        "epochs = 25\n",
        "# steps_per_epoch = 25\n",
        "\n",
        "\n",
        "model.add_loss(loss)\n",
        "model.compile(optimizer='adam')\n",
        "\n",
        "callback = tf.keras.callbacks.EarlyStopping(monitor = 'loss', patience = 3, mode = 'min') # for early stopping\n",
        "\n",
        "history = model.fit(\n",
        "    x_train,\n",
        "    epochs=epochs, verbose=True, callbacks = [callback], validation_split = 0.2)"
      ],
      "metadata": {
        "id": "hab67QM0BhVr",
        "colab": {
          "base_uri": "https://localhost:8080/"
        },
        "outputId": "797db1d9-f782-4bc5-9041-4f53efde9129"
      },
      "execution_count": 60,
      "outputs": [
        {
          "output_type": "stream",
          "name": "stdout",
          "text": [
            "Epoch 1/25\n",
            "125/125 [==============================] - 24s 178ms/step - loss: 0.0333 - val_loss: 0.0325\n",
            "Epoch 2/25\n",
            "125/125 [==============================] - 19s 154ms/step - loss: 0.0291 - val_loss: 0.0298\n",
            "Epoch 3/25\n",
            "125/125 [==============================] - 20s 160ms/step - loss: 0.0269 - val_loss: 0.0277\n",
            "Epoch 4/25\n",
            "125/125 [==============================] - 20s 160ms/step - loss: 0.0247 - val_loss: 0.0265\n",
            "Epoch 5/25\n",
            "125/125 [==============================] - 19s 154ms/step - loss: 0.0236 - val_loss: 0.0242\n",
            "Epoch 6/25\n",
            "125/125 [==============================] - 19s 155ms/step - loss: 0.0224 - val_loss: 0.0240\n",
            "Epoch 7/25\n",
            "125/125 [==============================] - 19s 154ms/step - loss: 0.0214 - val_loss: 0.0229\n",
            "Epoch 8/25\n",
            "125/125 [==============================] - 19s 155ms/step - loss: 0.0209 - val_loss: 0.0224\n",
            "Epoch 9/25\n",
            "125/125 [==============================] - 19s 155ms/step - loss: 0.0194 - val_loss: 0.0215\n",
            "Epoch 10/25\n",
            "125/125 [==============================] - 19s 155ms/step - loss: 0.0197 - val_loss: 0.0229\n",
            "Epoch 11/25\n",
            "125/125 [==============================] - 21s 170ms/step - loss: 0.0184 - val_loss: 0.0213\n",
            "Epoch 12/25\n",
            "125/125 [==============================] - 20s 156ms/step - loss: 0.0182 - val_loss: 0.0205\n",
            "Epoch 13/25\n",
            "125/125 [==============================] - 19s 156ms/step - loss: 0.0172 - val_loss: 0.0195\n",
            "Epoch 14/25\n",
            "125/125 [==============================] - 19s 156ms/step - loss: 0.0168 - val_loss: 0.0212\n",
            "Epoch 15/25\n",
            "125/125 [==============================] - 19s 156ms/step - loss: 0.0160 - val_loss: 0.0192\n",
            "Epoch 16/25\n",
            "125/125 [==============================] - 20s 156ms/step - loss: 0.0151 - val_loss: 0.0191\n",
            "Epoch 17/25\n",
            "125/125 [==============================] - 20s 157ms/step - loss: 0.0146 - val_loss: 0.0185\n",
            "Epoch 18/25\n",
            "125/125 [==============================] - 19s 156ms/step - loss: 0.0144 - val_loss: 0.0204\n",
            "Epoch 19/25\n",
            "125/125 [==============================] - 20s 156ms/step - loss: 0.0141 - val_loss: 0.0187\n",
            "Epoch 20/25\n",
            "125/125 [==============================] - 19s 155ms/step - loss: 0.0130 - val_loss: 0.0181\n",
            "Epoch 21/25\n",
            "125/125 [==============================] - 22s 173ms/step - loss: 0.0128 - val_loss: 0.0196\n",
            "Epoch 22/25\n",
            "125/125 [==============================] - 20s 156ms/step - loss: 0.0133 - val_loss: 0.0181\n",
            "Epoch 23/25\n",
            "125/125 [==============================] - 19s 156ms/step - loss: 0.0124 - val_loss: 0.0192\n",
            "Epoch 24/25\n",
            "125/125 [==============================] - 19s 156ms/step - loss: 0.0121 - val_loss: 0.0183\n",
            "Epoch 25/25\n",
            "125/125 [==============================] - 19s 156ms/step - loss: 0.0121 - val_loss: 0.0197\n"
          ]
        }
      ]
    },
    {
      "cell_type": "code",
      "source": [
        "# ploting \n",
        "plt.plot(history.history['loss'])\n",
        "plt.plot(history.history['val_loss'])\n",
        "plt.xlabel('Epochs')\n",
        "plt.ylabel('Loss')\n",
        "plt.legend(['loss', 'val_loss'])\n",
        "plt.show()"
      ],
      "metadata": {
        "colab": {
          "base_uri": "https://localhost:8080/",
          "height": 279
        },
        "id": "0mnURm_-xQey",
        "outputId": "3e50e821-e781-4b1a-9096-2ee211645d22"
      },
      "execution_count": null,
      "outputs": [
        {
          "output_type": "display_data",
          "data": {
            "text/plain": [
              "<Figure size 432x288 with 1 Axes>"
            ],
            "image/png": "[encoded data removed]"
          },
          "metadata": {
            "needs_background": "light"
          }
        }
      ]
    },
    {
      "cell_type": "code",
      "source": [
        "x_predict = embedding_model.predict(x)\n",
        "g_predict = embedding_model.predict(g)\n",
        "t_predict = embedding_model.predict(tx)"
      ],
      "metadata": {
        "id": "KCiPr-MVxEcZ"
      },
      "execution_count": null,
      "outputs": []
    },
    {
      "cell_type": "code",
      "source": [
        "# np.savez_compressed(\"/content/drive/MyDrive/compress_predictions.npz\", x_pre = x_predict, g_pre = g_predict, t_pre = t_predict)"
      ],
      "metadata": {
        "id": "c6yZ5Sn3Gd-V"
      },
      "execution_count": null,
      "outputs": []
    },
    {
      "cell_type": "code",
      "source": [
        "predict_data = np.load('/content/drive/MyDrive/compress_predictions.npz')\n",
        "x_pre, g_pre, t_pre = predict_data['x_pre'], predict_data['g_pre'], predict_data['t_pre']"
      ],
      "metadata": {
        "id": "2gAjMfwXI84F"
      },
      "execution_count": 4,
      "outputs": []
    },
    {
      "cell_type": "code",
      "source": [
        "g_pre1 = g_pre[:, :2]\n",
        "t_pre1 = t_pre[:, :2]\n",
        "\n",
        "t0 = t_pre1[ty == 0]\n",
        "t1 = t_pre1[ty == 1]\n",
        "\n",
        "plt.plot(g_pre[:,0],  g_pre[:,1], \"o\", label = \"g\")\n",
        "plt.plot(t0[:,0], t0[:,1], \"o\", label = \"t0\")\n",
        "plt.plot(t1[:,0], t1[:,1], \"o\", label = \"t1\")\n",
        "plt.legend()"
      ],
      "metadata": {
        "colab": {
          "base_uri": "https://localhost:8080/",
          "height": 282
        },
        "id": "FsoB_0uC5MVG",
        "outputId": "83b7fc78-d97c-4059-fe8f-20c59b38fef2"
      },
      "execution_count": 31,
      "outputs": [
        {
          "output_type": "execute_result",
          "data": {
            "text/plain": [
              "<matplotlib.legend.Legend at 0x7fb36cfb72d0>"
            ]
          },
          "metadata": {},
          "execution_count": 31
        },
        {
          "output_type": "display_data",
          "data": {
            "text/plain": [
              "<Figure size 432x288 with 1 Axes>"
            ],
            "image/png": "[encoded data removed]"
          },
          "metadata": {
            "needs_background": "light"
          }
        }
      ]
    },
    {
      "cell_type": "code",
      "source": [
        "g_pre1 = g_pre[:, 3:5]\n",
        "t_pre1 = t_pre[:, 3:5]\n",
        "\n",
        "t0 = t_pre1[ty == 0]\n",
        "t1 = t_pre1[ty == 1]\n",
        "\n",
        "plt.plot(g_pre[:,0],g_pre[:,1],\"o\",label=\"g\")\n",
        "plt.plot(t0[:,0],t0[:,1],\"o\",label=\"t0\")\n",
        "plt.plot(t1[:,0],t1[:,1],\"o\",label=\"t1\")\n",
        "plt.legend()"
      ],
      "metadata": {
        "colab": {
          "base_uri": "https://localhost:8080/",
          "height": 282
        },
        "id": "ayNf45-a5QrQ",
        "outputId": "3cf5d03c-fed7-4929-dbd6-d6f25a956fa4"
      },
      "execution_count": 32,
      "outputs": [
        {
          "output_type": "execute_result",
          "data": {
            "text/plain": [
              "<matplotlib.legend.Legend at 0x7fb36cf38fd0>"
            ]
          },
          "metadata": {},
          "execution_count": 32
        },
        {
          "output_type": "display_data",
          "data": {
            "text/plain": [
              "<Figure size 432x288 with 1 Axes>"
            ],
            "image/png": "[encoded data removed]"
          },
          "metadata": {
            "needs_background": "light"
          }
        }
      ]
    },
    {
      "cell_type": "code",
      "source": [
        "g_pre1 = g_pre[:, 8:10]\n",
        "t_pre1 = t_pre[:, 8:10]\n",
        "\n",
        "t0 = t_pre1[ty == 0]\n",
        "t1 = t_pre1[ty == 1]"
      ],
      "metadata": {
        "id": "MZWsPXVe2CdN"
      },
      "execution_count": 29,
      "outputs": []
    },
    {
      "cell_type": "code",
      "source": [
        "plt.plot(g_pre[:,0],g_pre[:,1],\"o\",label=\"g\")\n",
        "plt.plot(t0[:,0],t0[:,1],\"o\",label=\"t0\")\n",
        "plt.plot(t1[:,0],t1[:,1],\"o\",label=\"t1\")\n",
        "plt.legend()"
      ],
      "metadata": {
        "colab": {
          "base_uri": "https://localhost:8080/",
          "height": 282
        },
        "id": "c4OL3AAu3aio",
        "outputId": "302de0c1-2f62-4ee7-b1df-d350586ba152"
      },
      "execution_count": 30,
      "outputs": [
        {
          "output_type": "execute_result",
          "data": {
            "text/plain": [
              "<matplotlib.legend.Legend at 0x7fb36d030310>"
            ]
          },
          "metadata": {},
          "execution_count": 30
        },
        {
          "output_type": "display_data",
          "data": {
            "text/plain": [
              "<Figure size 432x288 with 1 Axes>"
            ],
            "image/png": "[encoded data removed]"
          },
          "metadata": {
            "needs_background": "light"
          }
        }
      ]
    },
    {
      "cell_type": "code",
      "source": [
        "# from sklearn.metrics import roc_auc_score\n",
        "# roc_auc_score(ty, t_pre)\n",
        "g[2].shape"
      ],
      "metadata": {
        "colab": {
          "base_uri": "https://localhost:8080/"
        },
        "id": "mqwd6Jg49V4O",
        "outputId": "c75d4355-8e86-4aa7-c516-936df4ec3297"
      },
      "execution_count": 45,
      "outputs": [
        {
          "output_type": "execute_result",
          "data": {
            "text/plain": [
              "(32, 96, 3)"
            ]
          },
          "metadata": {},
          "execution_count": 45
        }
      ]
    },
    {
      "cell_type": "code",
      "source": [],
      "metadata": {
        "id": "UXYdVigNOgqG"
      },
      "execution_count": null,
      "outputs": []
    }
  ]
}