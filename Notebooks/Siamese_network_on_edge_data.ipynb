{
  "nbformat": 4,
  "nbformat_minor": 0,
  "metadata": {
    "colab": {
      "provenance": [],
      "authorship_tag": "ABX9TyPKM2UCdhc03L6Dn0TeaCqX",
      "include_colab_link": true
    },
    "kernelspec": {
      "name": "python3",
      "display_name": "Python 3"
    },
    "language_info": {
      "name": "python"
    },
    "accelerator": "GPU",
    "gpuClass": "standard"
  },
  "cells": [
    {
      "cell_type": "markdown",
      "metadata": {
        "id": "view-in-github",
        "colab_type": "text"
      },
      "source": [
        "<a href=\"https://colab.research.google.com/github/ashishsaini01/Anomaly_detection_using_autoencoders/blob/main/Siamese_network_on_edge_data.ipynb\" target=\"_parent\"><img src=\"https://colab.research.google.com/assets/colab-badge.svg\" alt=\"Open In Colab\"/></a>"
      ]
    },
    {
      "cell_type": "code",
      "execution_count": null,
      "metadata": {
        "id": "w0eR4YxslbLO"
      },
      "outputs": [],
      "source": [
        "import numpy as np\n",
        "import tensorflow as tf\n",
        "import tensorflow.keras.backend as k\n",
        "import matplotlib.pyplot as plt\n",
        "import pandas as pd\n",
        "import random\n",
        "import pickle"
      ]
    },
    {
      "cell_type": "code",
      "source": [
        "# mounting google drive for easy data reading\n",
        "from google.colab import drive\n",
        "drive.mount('/content/drive')"
      ],
      "metadata": {
        "colab": {
          "base_uri": "https://localhost:8080/"
        },
        "id": "mt9jRPlNmDFI",
        "outputId": "015f558d-cd9f-444f-b3e3-d7d1be69872a"
      },
      "execution_count": null,
      "outputs": [
        {
          "output_type": "stream",
          "name": "stdout",
          "text": [
            "Mounted at /content/drive\n"
          ]
        }
      ]
    },
    {
      "cell_type": "code",
      "source": [
        "data = np.load('/content/drive/MyDrive/crop_img_arrays_32.npz', allow_pickle = True)\n",
        "x, tx, gx = data['x'], data['tx'], data['g']"
      ],
      "metadata": {
        "id": "fBOerwbhmEaG"
      },
      "execution_count": null,
      "outputs": []
    },
    {
      "cell_type": "code",
      "source": [
        "x_data = np.array([np.reshape(np.array(i[1]), (32, 96, 1)) for i in x])\n",
        "tx_data = np.array([np.reshape(np.array(i[1]), (32, 96, 1)) for i in tx])\n",
        "g_data = np.array([np.reshape(np.array(i[1]), (32, 96, 1)) for i in gx])\n",
        "x_data.shape, tx_data.shape, g_data.shape"
      ],
      "metadata": {
        "colab": {
          "base_uri": "https://localhost:8080/"
        },
        "id": "1r29b9lYeTFi",
        "outputId": "b2fd0428-ff90-41ba-e26f-c02a4b1ef869"
      },
      "execution_count": null,
      "outputs": [
        {
          "output_type": "execute_result",
          "data": {
            "text/plain": [
              "((1505, 32, 96, 1), (905, 32, 96, 1), (100, 32, 96, 1))"
            ]
          },
          "metadata": {},
          "execution_count": 4
        }
      ]
    },
    {
      "cell_type": "code",
      "source": [
        "i = np.array([i[0] for i in x])\n",
        "ti = np.array([i[0] for i in tx])\n",
        "gi = np.array([i[0] for i in gx])\n",
        "i"
      ],
      "metadata": {
        "colab": {
          "base_uri": "https://localhost:8080/"
        },
        "id": "hVHbEpimgsyn",
        "outputId": "9e42772d-e171-4e26-d85d-a06b4ab059b6"
      },
      "execution_count": null,
      "outputs": [
        {
          "output_type": "execute_result",
          "data": {
            "text/plain": [
              "array([  1,   1,   1, ..., 301, 301, 301])"
            ]
          },
          "metadata": {},
          "execution_count": 5
        }
      ]
    },
    {
      "cell_type": "code",
      "source": [
        "ty = np.where(pd.Series(ti).isin(gi), 1, 0)"
      ],
      "metadata": {
        "id": "EXeDpLlH7vDF"
      },
      "execution_count": null,
      "outputs": []
    },
    {
      "cell_type": "code",
      "source": [
        "# from re import X\n",
        "def create_batch(batch_size=500):\n",
        "    x_anchors = np.zeros((batch_size, 32, 96, 1))\n",
        "    x_positives = np.zeros((batch_size, 32, 96, 1))\n",
        "    x_negatives = np.zeros((batch_size, 32, 96, 1))\n",
        "    \n",
        "    for j in range(0, batch_size):\n",
        "        # We need to find an anchor, a positive example and a negative example\n",
        "        random_index = random.randint(0, x_data.shape[0] - 1)\n",
        "        x_anchor = x_data[random_index]\n",
        "\n",
        "        pos_index = random.randint(0, x_data.shape[0] - 1)\n",
        "\n",
        "        while pos_index == random_index or i[pos_index] != i[random_index]:\n",
        "          pos_index = random.randint(0, x_data.shape[0] - 1)\n",
        "\n",
        "        x_positive = x_data[pos_index]  # also for the same pallet block\n",
        "        \n",
        "        random_index_neg = random.randint(0, x_data.shape[0] - 1)\n",
        "\n",
        "        while random_index_neg == random_index or i[random_index] == i[random_index_neg]:\n",
        "          random_index_neg = random.randint(0, x_data.shape[0] - 1)\n",
        "         \n",
        "        x_negative = x_data[random_index_neg]\n",
        "        \n",
        "        x_anchors[j] = x_anchor\n",
        "        x_positives[j] = x_positive\n",
        "        x_negatives[j] = x_negative\n",
        "        \n",
        "    x_anchors = np.expand_dims(x_anchors, axis = 1)\n",
        "    x_positives = np.expand_dims(x_positives, axis = 1)\n",
        "    x_negatives = np.expand_dims(x_negatives, axis = 1)\n",
        "\n",
        "    k = np.concatenate([x_anchors, x_positives, x_negatives], axis = 1)\n",
        "        \n",
        "    return k"
      ],
      "metadata": {
        "id": "GsYqcwome-f6"
      },
      "execution_count": null,
      "outputs": []
    },
    {
      "cell_type": "code",
      "source": [
        "examples = create_batch(1)\n",
        "examples.shape"
      ],
      "metadata": {
        "colab": {
          "base_uri": "https://localhost:8080/"
        },
        "id": "hrplA2_PgUft",
        "outputId": "e6e753ba-a903-4a15-fe5c-565aabea2642"
      },
      "execution_count": null,
      "outputs": [
        {
          "output_type": "execute_result",
          "data": {
            "text/plain": [
              "(1, 3, 32, 96, 1)"
            ]
          },
          "metadata": {},
          "execution_count": 11
        }
      ]
    },
    {
      "cell_type": "code",
      "source": [
        "# Embedding model\n",
        "emb_size = 64\n",
        "\n",
        "# embedding_model = tf.keras.models.Sequential([\n",
        "#     tf.keras.layers.Conv2D(emb_size, (3, 3), activation = 'relu', strides = 2, padding = 'same', input_shape = (32, 96, 1)),\n",
        "#     tf.keras.layers.Conv2D(emb_size/2, (3, 3), activation = 'relu', strides = 2, padding = 'same'),\n",
        "#     tf.keras.layers.Conv2D(emb_size/2, (3, 3), activation = \"relu\"),\n",
        "#     tf.keras.layers.Flatten(),\n",
        "#     tf.keras.layers.Dense(emb_size/2, activation = 'relu'),\n",
        "#     tf.keras.layers.Dense(30, activation = 'sigmoid')\n",
        "# ])\n",
        "\n",
        "embedding_model = tf.keras.models.Sequential([\n",
        "    tf.keras.layers.Conv2D(256, (3, 3), activation = 'relu', strides = 2, padding = 'same', input_shape = (32, 96, 1)),\n",
        "    tf.keras.layers.BatchNormalization(),\n",
        "    tf.keras.layers.Conv2D(128, (3, 3), activation = 'relu', padding = 'same'),\n",
        "    tf.keras.layers.MaxPool2D(pool_size = (2, 2)),\n",
        "    tf.keras.layers.BatchNormalization(),\n",
        "    tf.keras.layers.Conv2D(64, (3, 3), activation = 'relu', padding = 'same'),\n",
        "    tf.keras.layers.MaxPool2D(pool_size = (2, 2)),\n",
        "    tf.keras.layers.BatchNormalization(),\n",
        "    tf.keras.layers.Conv2D(32, (3, 3), activation = 'relu', padding = 'same'),\n",
        "    tf.keras.layers.MaxPool2D(pool_size = (2, 2)),\n",
        "    tf.keras.layers.BatchNormalization(),\n",
        "    tf.keras.layers.Conv2D(16, (3, 3), activation = 'relu', strides = 1, padding = 'same'),\n",
        "    tf.keras.layers.BatchNormalization(),\n",
        "    # tf.keras.layers.Conv2D(emb_size/2, (3, 3)),\n",
        "    tf.keras.layers.Dropout(0.5),\n",
        "    tf.keras.layers.Flatten(),\n",
        "    tf.keras.layers.Dense(128, activation = 'relu'),\n",
        "    tf.keras.layers.Dense(128, activation = 'relu'),\n",
        "    #tf.keras.layers.Dropout(0.5),\n",
        "    tf.keras.layers.Dense(30)\n",
        "])\n",
        "\n",
        "embedding_model.summary()\n",
        "\n",
        "# input_layer1 = tf.keras.layers.Input(shape = tri_data.shape[2:])"
      ],
      "metadata": {
        "colab": {
          "base_uri": "https://localhost:8080/"
        },
        "id": "irJrBlXphXIK",
        "outputId": "853c698c-835b-421d-ac2a-74feb7f77a83"
      },
      "execution_count": null,
      "outputs": [
        {
          "output_type": "stream",
          "name": "stdout",
          "text": [
            "Model: \"sequential_9\"\n",
            "_________________________________________________________________\n",
            " Layer (type)                Output Shape              Param #   \n",
            "=================================================================\n",
            " conv2d_43 (Conv2D)          (None, 16, 48, 256)       2560      \n",
            "                                                                 \n",
            " batch_normalization_29 (Bat  (None, 16, 48, 256)      1024      \n",
            " chNormalization)                                                \n",
            "                                                                 \n",
            " conv2d_44 (Conv2D)          (None, 16, 48, 128)       295040    \n",
            "                                                                 \n",
            " max_pooling2d_31 (MaxPoolin  (None, 8, 24, 128)       0         \n",
            " g2D)                                                            \n",
            "                                                                 \n",
            " batch_normalization_30 (Bat  (None, 8, 24, 128)       512       \n",
            " chNormalization)                                                \n",
            "                                                                 \n",
            " conv2d_45 (Conv2D)          (None, 8, 24, 64)         73792     \n",
            "                                                                 \n",
            " max_pooling2d_32 (MaxPoolin  (None, 4, 12, 64)        0         \n",
            " g2D)                                                            \n",
            "                                                                 \n",
            " batch_normalization_31 (Bat  (None, 4, 12, 64)        256       \n",
            " chNormalization)                                                \n",
            "                                                                 \n",
            " conv2d_46 (Conv2D)          (None, 4, 12, 32)         18464     \n",
            "                                                                 \n",
            " max_pooling2d_33 (MaxPoolin  (None, 2, 6, 32)         0         \n",
            " g2D)                                                            \n",
            "                                                                 \n",
            " batch_normalization_32 (Bat  (None, 2, 6, 32)         128       \n",
            " chNormalization)                                                \n",
            "                                                                 \n",
            " conv2d_47 (Conv2D)          (None, 2, 6, 16)          4624      \n",
            "                                                                 \n",
            " batch_normalization_33 (Bat  (None, 2, 6, 16)         64        \n",
            " chNormalization)                                                \n",
            "                                                                 \n",
            " dropout_12 (Dropout)        (None, 2, 6, 16)          0         \n",
            "                                                                 \n",
            " flatten_9 (Flatten)         (None, 192)               0         \n",
            "                                                                 \n",
            " dense_27 (Dense)            (None, 128)               24704     \n",
            "                                                                 \n",
            " dense_28 (Dense)            (None, 128)               16512     \n",
            "                                                                 \n",
            " dense_29 (Dense)            (None, 30)                3870      \n",
            "                                                                 \n",
            "=================================================================\n",
            "Total params: 441,550\n",
            "Trainable params: 440,558\n",
            "Non-trainable params: 992\n",
            "_________________________________________________________________\n"
          ]
        }
      ]
    },
    {
      "cell_type": "code",
      "source": [
        "# siamese network\n",
        "siamese_input = tf.keras.Input(shape = (3, 32, 96, 1))\n",
        "input_anchor =  siamese_input[:, 0]                                              #tf.keras.layers.Input(shape=(32, 96, 3))\n",
        "input_positive = siamese_input[:, 1]                                             #tf.keras.layers.Input(shape=(32, 96, 3))\n",
        "input_negative = siamese_input[:, 2]                                             #tf.keras.layers.Input(shape=(32, 96, 3))\n",
        "\n",
        "embedding_anchor = embedding_model(input_anchor)\n",
        "embedding_positive = embedding_model(input_positive)\n",
        "embedding_negative = embedding_model(input_negative)\n",
        "\n",
        "embedding_anchor = k.expand_dims(embedding_anchor, 1)\n",
        "embedding_negative = k.expand_dims(embedding_negative, 1)\n",
        "embedding_positive = k.expand_dims(embedding_positive, 1)\n",
        "\n",
        "\n",
        "output = tf.keras.layers.concatenate([embedding_anchor, embedding_positive, embedding_negative], axis=1) \n",
        "\n",
        "model = tf.keras.models.Model(siamese_input, output)\n",
        "model.summary()"
      ],
      "metadata": {
        "colab": {
          "base_uri": "https://localhost:8080/"
        },
        "id": "5bYkdCWxiaAD",
        "outputId": "bd43e5e8-556e-4904-8b13-e319de55a5b5"
      },
      "execution_count": null,
      "outputs": [
        {
          "output_type": "stream",
          "name": "stdout",
          "text": [
            "Model: \"model_6\"\n",
            "__________________________________________________________________________________________________\n",
            " Layer (type)                   Output Shape         Param #     Connected to                     \n",
            "==================================================================================================\n",
            " input_7 (InputLayer)           [(None, 3, 32, 96,   0           []                               \n",
            "                                1)]                                                               \n",
            "                                                                                                  \n",
            " tf.__operators__.getitem_18 (S  (None, 32, 96, 1)   0           ['input_7[0][0]']                \n",
            " licingOpLambda)                                                                                  \n",
            "                                                                                                  \n",
            " tf.__operators__.getitem_19 (S  (None, 32, 96, 1)   0           ['input_7[0][0]']                \n",
            " licingOpLambda)                                                                                  \n",
            "                                                                                                  \n",
            " tf.__operators__.getitem_20 (S  (None, 32, 96, 1)   0           ['input_7[0][0]']                \n",
            " licingOpLambda)                                                                                  \n",
            "                                                                                                  \n",
            " sequential_9 (Sequential)      (None, 30)           441550      ['tf.__operators__.getitem_18[0][\n",
            "                                                                 0]',                             \n",
            "                                                                  'tf.__operators__.getitem_19[0][\n",
            "                                                                 0]',                             \n",
            "                                                                  'tf.__operators__.getitem_20[0][\n",
            "                                                                 0]']                             \n",
            "                                                                                                  \n",
            " tf.expand_dims_18 (TFOpLambda)  (None, 1, 30)       0           ['sequential_9[0][0]']           \n",
            "                                                                                                  \n",
            " tf.expand_dims_20 (TFOpLambda)  (None, 1, 30)       0           ['sequential_9[1][0]']           \n",
            "                                                                                                  \n",
            " tf.expand_dims_19 (TFOpLambda)  (None, 1, 30)       0           ['sequential_9[2][0]']           \n",
            "                                                                                                  \n",
            " concatenate_6 (Concatenate)    (None, 3, 30)        0           ['tf.expand_dims_18[0][0]',      \n",
            "                                                                  'tf.expand_dims_20[0][0]',      \n",
            "                                                                  'tf.expand_dims_19[0][0]']      \n",
            "                                                                                                  \n",
            "==================================================================================================\n",
            "Total params: 441,550\n",
            "Trainable params: 440,558\n",
            "Non-trainable params: 992\n",
            "__________________________________________________________________________________________________\n"
          ]
        }
      ]
    },
    {
      "cell_type": "code",
      "source": [
        "# alpha = 0.05\n",
        "alpha = 0.07\n",
        "# alpha = 0.001\n",
        "# pos = k.sqrt(k.mean((embedding_anchor - embedding_positive)**2, axis = 1))\n",
        "# neg = k.sqrt(k.mean((embedding_anchor - embedding_negative)**2, axis = 1))\n",
        "\n",
        "pos = k.mean((embedding_anchor - embedding_positive)**2, axis = 1)\n",
        "neg = k.mean((embedding_anchor - embedding_negative)**2, axis = 1)\n",
        "\n",
        "loss = k.mean(k.relu(pos - neg + alpha)) "
      ],
      "metadata": {
        "id": "M1B_-fZxinGi"
      },
      "execution_count": null,
      "outputs": []
    },
    {
      "cell_type": "code",
      "source": [
        "batch_size = 10000\n",
        "x_train = create_batch(batch_size)\n",
        "x_train = np.array(x_train)\n",
        "x_train.shape"
      ],
      "metadata": {
        "colab": {
          "base_uri": "https://localhost:8080/"
        },
        "id": "clHj79E8jKZR",
        "outputId": "02d87e94-c4ff-4031-9a23-c9e6f9922ab7"
      },
      "execution_count": null,
      "outputs": [
        {
          "output_type": "execute_result",
          "data": {
            "text/plain": [
              "(10000, 3, 32, 96, 1)"
            ]
          },
          "metadata": {},
          "execution_count": 12
        }
      ]
    },
    {
      "cell_type": "code",
      "source": [
        "# batch_size = 2048\n",
        "epochs = 30\n",
        "# steps_per_epoch = 25\n",
        "\n",
        "model.add_loss(loss)\n",
        "\n",
        "\n",
        "model.compile(optimizer='adam')\n",
        "\n",
        "callback = tf.keras.callbacks.EarlyStopping(monitor = 'loss', patience = 3, mode = 'min') # for early stopping\n",
        "\n",
        "history = model.fit(\n",
        "    x_train,\n",
        "    batch_size = 125,\n",
        "    epochs=epochs, verbose=True, callbacks = [callback], validation_split = 0.2)"
      ],
      "metadata": {
        "colab": {
          "base_uri": "https://localhost:8080/"
        },
        "id": "v3BTK6dEjMjD",
        "outputId": "ed384793-e8c0-4d43-8a88-e72a624bc0fb"
      },
      "execution_count": null,
      "outputs": [
        {
          "output_type": "stream",
          "name": "stdout",
          "text": [
            "Epoch 1/30\n",
            "64/64 [==============================] - 10s 135ms/step - loss: 0.1080 - val_loss: 0.0340\n",
            "Epoch 2/30\n",
            "64/64 [==============================] - 8s 121ms/step - loss: 0.0366 - val_loss: 0.0278\n",
            "Epoch 3/30\n",
            "64/64 [==============================] - 8s 128ms/step - loss: 0.0283 - val_loss: 0.0237\n",
            "Epoch 4/30\n",
            "64/64 [==============================] - 8s 120ms/step - loss: 0.0233 - val_loss: 0.0203\n",
            "Epoch 5/30\n",
            "64/64 [==============================] - 8s 120ms/step - loss: 0.0210 - val_loss: 0.0162\n",
            "Epoch 6/30\n",
            "64/64 [==============================] - 8s 125ms/step - loss: 0.0183 - val_loss: 0.0156\n",
            "Epoch 7/30\n",
            "64/64 [==============================] - 8s 125ms/step - loss: 0.0166 - val_loss: 0.0151\n",
            "Epoch 8/30\n",
            "64/64 [==============================] - 8s 124ms/step - loss: 0.0159 - val_loss: 0.0134\n",
            "Epoch 9/30\n",
            "64/64 [==============================] - 8s 125ms/step - loss: 0.0147 - val_loss: 0.0137\n",
            "Epoch 10/30\n",
            "64/64 [==============================] - 8s 125ms/step - loss: 0.0147 - val_loss: 0.0150\n",
            "Epoch 11/30\n",
            "64/64 [==============================] - 8s 125ms/step - loss: 0.0138 - val_loss: 0.0127\n",
            "Epoch 12/30\n",
            "64/64 [==============================] - 8s 125ms/step - loss: 0.0136 - val_loss: 0.0132\n",
            "Epoch 13/30\n",
            "64/64 [==============================] - 8s 125ms/step - loss: 0.0125 - val_loss: 0.0128\n",
            "Epoch 14/30\n",
            "64/64 [==============================] - 8s 126ms/step - loss: 0.0128 - val_loss: 0.0121\n",
            "Epoch 15/30\n",
            "64/64 [==============================] - 8s 120ms/step - loss: 0.0121 - val_loss: 0.0112\n",
            "Epoch 16/30\n",
            "64/64 [==============================] - 8s 120ms/step - loss: 0.0116 - val_loss: 0.0124\n",
            "Epoch 17/30\n",
            "64/64 [==============================] - 8s 125ms/step - loss: 0.0117 - val_loss: 0.0118\n",
            "Epoch 18/30\n",
            "64/64 [==============================] - 8s 119ms/step - loss: 0.0109 - val_loss: 0.0114\n",
            "Epoch 19/30\n",
            "64/64 [==============================] - 8s 125ms/step - loss: 0.0111 - val_loss: 0.0121\n",
            "Epoch 20/30\n",
            "64/64 [==============================] - 8s 125ms/step - loss: 0.0107 - val_loss: 0.0115\n",
            "Epoch 21/30\n",
            "64/64 [==============================] - 8s 125ms/step - loss: 0.0110 - val_loss: 0.0121\n",
            "Epoch 22/30\n",
            "64/64 [==============================] - 8s 125ms/step - loss: 0.0105 - val_loss: 0.0116\n",
            "Epoch 23/30\n",
            "64/64 [==============================] - 8s 125ms/step - loss: 0.0102 - val_loss: 0.0139\n",
            "Epoch 24/30\n",
            "64/64 [==============================] - 8s 119ms/step - loss: 0.0102 - val_loss: 0.0114\n",
            "Epoch 25/30\n",
            "64/64 [==============================] - 8s 126ms/step - loss: 0.0100 - val_loss: 0.0107\n",
            "Epoch 26/30\n",
            "64/64 [==============================] - 8s 126ms/step - loss: 0.0096 - val_loss: 0.0113\n",
            "Epoch 27/30\n",
            "64/64 [==============================] - 8s 120ms/step - loss: 0.0101 - val_loss: 0.0111\n",
            "Epoch 28/30\n",
            "64/64 [==============================] - 8s 126ms/step - loss: 0.0091 - val_loss: 0.0108\n",
            "Epoch 29/30\n",
            "64/64 [==============================] - 8s 125ms/step - loss: 0.0095 - val_loss: 0.0111\n",
            "Epoch 30/30\n",
            "64/64 [==============================] - 8s 125ms/step - loss: 0.0090 - val_loss: 0.0110\n"
          ]
        }
      ]
    },
    {
      "cell_type": "code",
      "source": [
        "# ploting \n",
        "plt.plot(history.history['loss'])\n",
        "plt.plot(history.history['val_loss'])\n",
        "plt.xlabel('Epochs')\n",
        "plt.ylabel('Loss')\n",
        "plt.yscale(\"log\")\n",
        "plt.legend(['loss', 'val_loss'])\n",
        "plt.show()"
      ],
      "metadata": {
        "colab": {
          "base_uri": "https://localhost:8080/",
          "height": 279
        },
        "id": "G33dpK2fjN0w",
        "outputId": "3ac851fe-76b8-4eff-fa04-94f442b978ed"
      },
      "execution_count": null,
      "outputs": [
        {
          "output_type": "display_data",
          "data": {
            "text/plain": [
              "<Figure size 432x288 with 1 Axes>"
            ],
            "image/png": "[encoded data removed]"
          },
          "metadata": {
            "needs_background": "light"
          }
        }
      ]
    },
    {
      "cell_type": "code",
      "source": [
        "x[0]"
      ],
      "metadata": {
        "colab": {
          "base_uri": "https://localhost:8080/",
          "height": 165
        },
        "id": "lhu3TATbmxbt",
        "outputId": "92c575c3-1de7-47b7-a38f-d8d33a50d734"
      },
      "execution_count": null,
      "outputs": [
        {
          "output_type": "error",
          "ename": "NameError",
          "evalue": "ignored",
          "traceback": [
            "\u001b[0;31m---------------------------------------------------------------------------\u001b[0m",
            "\u001b[0;31mNameError\u001b[0m                                 Traceback (most recent call last)",
            "\u001b[0;32m<ipython-input-1-2f755f117ac9>\u001b[0m in \u001b[0;36m<module>\u001b[0;34m\u001b[0m\n\u001b[0;32m----> 1\u001b[0;31m \u001b[0mx\u001b[0m\u001b[0;34m[\u001b[0m\u001b[0;36m0\u001b[0m\u001b[0;34m]\u001b[0m\u001b[0;34m\u001b[0m\u001b[0;34m\u001b[0m\u001b[0m\n\u001b[0m",
            "\u001b[0;31mNameError\u001b[0m: name 'x' is not defined"
          ]
        }
      ]
    },
    {
      "cell_type": "code",
      "source": [
        "x_predict = embedding_model.predict(x_data)\n",
        "g_predict = embedding_model.predict(g_data)\n",
        "t_predict = embedding_model.predict(tx_data)"
      ],
      "metadata": {
        "colab": {
          "base_uri": "https://localhost:8080/"
        },
        "id": "Yiq_A4hXj4-X",
        "outputId": "4eb5ac91-9381-4c47-8173-3ec3ab846679"
      },
      "execution_count": null,
      "outputs": [
        {
          "output_type": "stream",
          "name": "stdout",
          "text": [
            "48/48 [==============================] - 0s 4ms/step\n",
            "4/4 [==============================] - 0s 4ms/step\n",
            "29/29 [==============================] - 0s 3ms/step\n"
          ]
        }
      ]
    },
    {
      "cell_type": "code",
      "source": [
        "bool_ls = []\n",
        "ls = []\n",
        "for n in range(0, t_predict.shape[0]):\n",
        "  # if ty[n] == 1: print(n) \n",
        "  if ty[n] == 1: continue\n",
        "  p_2 = t_predict[n]\n",
        "  sub = g_predict - p_2\n",
        "  dist = np.mean((sub)**2, axis = 1)\n",
        "  min_index = np.argsort(dist)\n",
        "  for i in range(len(min_index)):\n",
        "    if gi[min_index[i]] == ti[n]:\n",
        "      ls.append(1)\n",
        "  # if (gi[min_index] == ti[n]).any(): bool_ls.append(1)\n",
        "  else: bool_ls.append(0)"
      ],
      "metadata": {
        "id": "yFGNea6xkylR"
      },
      "execution_count": null,
      "outputs": []
    },
    {
      "cell_type": "code",
      "source": [
        "len(ty)"
      ],
      "metadata": {
        "colab": {
          "base_uri": "https://localhost:8080/"
        },
        "id": "g16d5O4MJpTz",
        "outputId": "1f197c09-36d5-41d0-a139-330ebc54b6d3"
      },
      "execution_count": null,
      "outputs": [
        {
          "output_type": "execute_result",
          "data": {
            "text/plain": [
              "905"
            ]
          },
          "metadata": {},
          "execution_count": 17
        }
      ]
    },
    {
      "cell_type": "code",
      "source": [
        "bool_ls[:10]"
      ],
      "metadata": {
        "colab": {
          "base_uri": "https://localhost:8080/"
        },
        "id": "U95jIl5yIuJZ",
        "outputId": "59acb5e2-a481-43b2-f99b-54b9e14b47a7"
      },
      "execution_count": null,
      "outputs": [
        {
          "output_type": "execute_result",
          "data": {
            "text/plain": [
              "[0, 0, 0, 0, 0, 0, 0, 0, 0, 0]"
            ]
          },
          "metadata": {},
          "execution_count": 73
        }
      ]
    },
    {
      "cell_type": "code",
      "source": [
        "t_predict.shape[0], len(ty)"
      ],
      "metadata": {
        "colab": {
          "base_uri": "https://localhost:8080/"
        },
        "id": "GY5XFgx1Lyu4",
        "outputId": "a9f571fe-2a82-4412-c010-b62af90967d7"
      },
      "execution_count": null,
      "outputs": [
        {
          "output_type": "execute_result",
          "data": {
            "text/plain": [
              "(905, 905)"
            ]
          },
          "metadata": {},
          "execution_count": 85
        }
      ]
    },
    {
      "cell_type": "code",
      "source": [
        "bool_ls = []\n",
        "\n",
        "for i in np.where(ty == 1)[0]:\n",
        "  if (gi[np.argsort(np.mean((g_predict - t_predict[i]) **2, axis = 1))][:5] == ti[i]).any():\n",
        "    bool_ls.append(1)"
      ],
      "metadata": {
        "id": "UZmr9-XjMa0S"
      },
      "execution_count": null,
      "outputs": []
    },
    {
      "cell_type": "code",
      "source": [
        "g_predict_normal = np.random.normal(0, 1, g_predict.shape)"
      ],
      "metadata": {
        "id": "FeopU1HHgbsf"
      },
      "execution_count": null,
      "outputs": []
    },
    {
      "cell_type": "code",
      "source": [
        "len(bool_ls)/400"
      ],
      "metadata": {
        "colab": {
          "base_uri": "https://localhost:8080/"
        },
        "id": "ZcKfoOX0ftEm",
        "outputId": "ffa925dd-7414-4176-ddc6-af170b058521"
      },
      "execution_count": null,
      "outputs": [
        {
          "output_type": "execute_result",
          "data": {
            "text/plain": [
              "0.1425"
            ]
          },
          "metadata": {},
          "execution_count": 72
        }
      ]
    },
    {
      "cell_type": "code",
      "source": [
        "def zerolistmaker(n):\n",
        "    listofzeros = [0] * n\n",
        "    return listofzeros"
      ],
      "metadata": {
        "id": "0pxl3Tcmljvm"
      },
      "execution_count": null,
      "outputs": []
    },
    {
      "cell_type": "code",
      "source": [
        "bool_ls = []\n",
        "\n",
        "for i in np.where(ty == 1)[0]:\n",
        "  index = np.argsort(np.mean((g_predict - t_predict[i]) **2, axis = 1))\n",
        "  ls_1 = zerolistmaker(len(index))\n",
        "  # print(np.where(gi[index] == ti[i]))\n",
        "  ls_1[np.where(gi[index] == ti[i])[0][0]] = 1\n",
        "  bool_ls.append(ls_1)"
      ],
      "metadata": {
        "id": "hP_b6Kzqf8Wb"
      },
      "execution_count": null,
      "outputs": []
    },
    {
      "cell_type": "code",
      "source": [
        "np.unique(bool_ls[0], return_counts = True)"
      ],
      "metadata": {
        "colab": {
          "base_uri": "https://localhost:8080/"
        },
        "id": "Tkx4KOAehDYX",
        "outputId": "eb00632e-94b4-4eb7-d959-57cb0d58a366"
      },
      "execution_count": null,
      "outputs": [
        {
          "output_type": "execute_result",
          "data": {
            "text/plain": [
              "(array([0, 1]), array([99,  1]))"
            ]
          },
          "metadata": {},
          "execution_count": 189
        }
      ]
    },
    {
      "cell_type": "code",
      "source": [
        "len(bool_ls[0])"
      ],
      "metadata": {
        "colab": {
          "base_uri": "https://localhost:8080/"
        },
        "id": "ONcJu9ofnV-4",
        "outputId": "6c066b65-518e-42cf-dc4d-19ee8d12378d"
      },
      "execution_count": null,
      "outputs": [
        {
          "output_type": "execute_result",
          "data": {
            "text/plain": [
              "100"
            ]
          },
          "metadata": {},
          "execution_count": 191
        }
      ]
    },
    {
      "cell_type": "code",
      "source": [
        "plt.bar(x = pd.Series(bool_ls[10]).index, height = pd.Series(bool_ls[10]))"
      ],
      "metadata": {
        "colab": {
          "base_uri": "https://localhost:8080/",
          "height": 282
        },
        "id": "2-nJ1tJrhF9z",
        "outputId": "7cf0aaf1-7c67-4180-8a7d-cf552f0ad9aa"
      },
      "execution_count": null,
      "outputs": [
        {
          "output_type": "execute_result",
          "data": {
            "text/plain": [
              "<BarContainer object of 100 artists>"
            ]
          },
          "metadata": {},
          "execution_count": 51
        },
        {
          "output_type": "display_data",
          "data": {
            "text/plain": [
              "<Figure size 432x288 with 1 Axes>"
            ],
            "image/png": "[encoded data removed]"
          },
          "metadata": {
            "needs_background": "light"
          }
        }
      ]
    },
    {
      "cell_type": "code",
      "source": [],
      "metadata": {
        "id": "4xYt_R2Gjpj8"
      },
      "execution_count": null,
      "outputs": []
    },
    {
      "cell_type": "code",
      "source": [
        "np.where(gi[index] == ti[i])[0][0]"
      ],
      "metadata": {
        "colab": {
          "base_uri": "https://localhost:8080/"
        },
        "id": "tJEdDoZGj80p",
        "outputId": "e918e129-52d5-43d9-d8e0-aa74e14f2f51"
      },
      "execution_count": null,
      "outputs": [
        {
          "output_type": "execute_result",
          "data": {
            "text/plain": [
              "90"
            ]
          },
          "metadata": {},
          "execution_count": 179
        }
      ]
    },
    {
      "cell_type": "code",
      "source": [
        "ls_1[np.where(gi[index] == ti[i])[0][0]] = 1"
      ],
      "metadata": {
        "id": "KpP1XZAfM6ua"
      },
      "execution_count": null,
      "outputs": []
    },
    {
      "cell_type": "code",
      "source": [
        "np.unique(ls_1, return_counts = True)"
      ],
      "metadata": {
        "colab": {
          "base_uri": "https://localhost:8080/"
        },
        "id": "DuZBZ9wLVTlc",
        "outputId": "c51467e2-051c-440f-b500-58714a025e01"
      },
      "execution_count": null,
      "outputs": [
        {
          "output_type": "execute_result",
          "data": {
            "text/plain": [
              "(array([0, 1]), array([ 4, 96]))"
            ]
          },
          "metadata": {},
          "execution_count": 185
        }
      ]
    },
    {
      "cell_type": "code",
      "source": [
        "len(bool_ls)"
      ],
      "metadata": {
        "colab": {
          "base_uri": "https://localhost:8080/"
        },
        "id": "HXP2IX5tDar7",
        "outputId": "3da94158-536d-4c50-f9cb-1442b2e5fe71"
      },
      "execution_count": null,
      "outputs": [
        {
          "output_type": "execute_result",
          "data": {
            "text/plain": [
              "57"
            ]
          },
          "metadata": {},
          "execution_count": 36
        }
      ]
    },
    {
      "cell_type": "code",
      "source": [
        "57/905"
      ],
      "metadata": {
        "colab": {
          "base_uri": "https://localhost:8080/"
        },
        "id": "8VkUjI1dQ0rm",
        "outputId": "45377bc2-24c9-4e85-e598-c04ba79ed928"
      },
      "execution_count": null,
      "outputs": [
        {
          "output_type": "execute_result",
          "data": {
            "text/plain": [
              "0.06298342541436464"
            ]
          },
          "metadata": {},
          "execution_count": 37
        }
      ]
    },
    {
      "cell_type": "code",
      "source": [],
      "metadata": {
        "id": "wablGee1TGkv"
      },
      "execution_count": null,
      "outputs": []
    },
    {
      "cell_type": "code",
      "source": [
        "for i in range(t_predict.shape[0]):\n",
        "  if ty[i] == 1 : continue\n",
        "  print(i)\n",
        "  # break\n",
        "  if (gi[np.argsort(np.mean((g_predict - t_predict[i]) **2, axis = 1))] == ti[i]).any():\n",
        "    print(1)"
      ],
      "metadata": {
        "id": "25hSaf6HGuMM"
      },
      "execution_count": null,
      "outputs": []
    },
    {
      "cell_type": "code",
      "source": [
        "if ty[2] == 1:\n",
        "  print(1)"
      ],
      "metadata": {
        "colab": {
          "base_uri": "https://localhost:8080/"
        },
        "id": "G8VcX_GPHLqf",
        "outputId": "b4547cde-4344-4e80-8aae-6a47b1bf7816"
      },
      "execution_count": null,
      "outputs": [
        {
          "output_type": "stream",
          "name": "stdout",
          "text": [
            "1\n"
          ]
        }
      ]
    },
    {
      "cell_type": "code",
      "source": [
        "gi[56]"
      ],
      "metadata": {
        "colab": {
          "base_uri": "https://localhost:8080/"
        },
        "id": "phGaesFyHEhJ",
        "outputId": "f0b8c52b-8efa-49c8-c60f-3499d3c99900"
      },
      "execution_count": null,
      "outputs": [
        {
          "output_type": "execute_result",
          "data": {
            "text/plain": [
              "369"
            ]
          },
          "metadata": {},
          "execution_count": 58
        }
      ]
    },
    {
      "cell_type": "code",
      "source": [
        "np.where(ty == 1)"
      ],
      "metadata": {
        "id": "yhq8q7uSGn5q"
      },
      "execution_count": null,
      "outputs": []
    },
    {
      "cell_type": "code",
      "source": [],
      "metadata": {
        "id": "aKYPdh19Di79"
      },
      "execution_count": null,
      "outputs": []
    },
    {
      "cell_type": "code",
      "source": [
        "import matplotlib.pyplot as plt"
      ],
      "metadata": {
        "id": "rcSjmlSobxhr"
      },
      "execution_count": null,
      "outputs": []
    },
    {
      "cell_type": "code",
      "source": [
        "plt.scatter(t_predict[:,0], t_predict[:,1], alpha = 0.5)\n",
        "plt.scatter(g_predict[:,0], g_predict[:,1], alpha = 0.5)"
      ],
      "metadata": {
        "colab": {
          "base_uri": "https://localhost:8080/",
          "height": 282
        },
        "id": "MGpHJsLWbl57",
        "outputId": "b942d2a4-387b-4a87-b282-8173ce38c684"
      },
      "execution_count": null,
      "outputs": [
        {
          "output_type": "execute_result",
          "data": {
            "text/plain": [
              "<matplotlib.collections.PathCollection at 0x7fc66a8f3a60>"
            ]
          },
          "metadata": {},
          "execution_count": 31
        },
        {
          "output_type": "display_data",
          "data": {
            "text/plain": [
              "<Figure size 432x288 with 1 Axes>"
            ],
            "image/png": "[encoded data removed]"
          },
          "metadata": {
            "needs_background": "light"
          }
        }
      ]
    },
    {
      "cell_type": "code",
      "source": [
        "t_pre"
      ],
      "metadata": {
        "id": "PPLKzDLXchHw"
      },
      "execution_count": null,
      "outputs": []
    },
    {
      "cell_type": "code",
      "source": [
        "t_predict.shape"
      ],
      "metadata": {
        "colab": {
          "base_uri": "https://localhost:8080/"
        },
        "id": "sfgFc3D9btTx",
        "outputId": "5dfba523-cc1c-4854-bbf3-db91a7a419c1"
      },
      "execution_count": null,
      "outputs": [
        {
          "output_type": "execute_result",
          "data": {
            "text/plain": [
              "(905, 10)"
            ]
          },
          "metadata": {},
          "execution_count": 27
        }
      ]
    },
    {
      "cell_type": "code",
      "source": [
        "p_2 = t_predict[0]"
      ],
      "metadata": {
        "id": "o_WoPpZgaFQ_"
      },
      "execution_count": null,
      "outputs": []
    },
    {
      "cell_type": "code",
      "source": [
        "p_2 = t_predict[ty == 1][10]"
      ],
      "metadata": {
        "id": "AFEwSsxiS-4n"
      },
      "execution_count": null,
      "outputs": []
    },
    {
      "cell_type": "code",
      "source": [
        "np.argsort(np.mean((g_predict - p_2)**2, axis =1))[:1]"
      ],
      "metadata": {
        "colab": {
          "base_uri": "https://localhost:8080/"
        },
        "id": "sLreb3CHTJsS",
        "outputId": "288c25c1-0158-4739-8053-8fd416788518"
      },
      "execution_count": null,
      "outputs": [
        {
          "output_type": "execute_result",
          "data": {
            "text/plain": [
              "array([9])"
            ]
          },
          "metadata": {},
          "execution_count": 84
        }
      ]
    },
    {
      "cell_type": "code",
      "source": [
        "t_predict.shape[0]"
      ],
      "metadata": {
        "colab": {
          "base_uri": "https://localhost:8080/"
        },
        "id": "uRnK4RUhY4nZ",
        "outputId": "1a9dc2cf-80b1-4fbd-de78-fe65c943ef8f"
      },
      "execution_count": null,
      "outputs": [
        {
          "output_type": "execute_result",
          "data": {
            "text/plain": [
              "int"
            ]
          },
          "metadata": {},
          "execution_count": 70
        }
      ]
    },
    {
      "cell_type": "code",
      "source": [
        "gi[7]"
      ],
      "metadata": {
        "colab": {
          "base_uri": "https://localhost:8080/"
        },
        "id": "GEVIdlfyYY_t",
        "outputId": "fb829997-d43c-46b4-ac94-56c34d999113"
      },
      "execution_count": null,
      "outputs": [
        {
          "output_type": "execute_result",
          "data": {
            "text/plain": [
              "311"
            ]
          },
          "metadata": {},
          "execution_count": 75
        }
      ]
    },
    {
      "cell_type": "code",
      "source": [
        "for i in range(0, t_predict.shape[0]):\n",
        "  if (gi[7] == ti[i]).any(): print(1)\n",
        "  else: continue "
      ],
      "metadata": {
        "colab": {
          "base_uri": "https://localhost:8080/"
        },
        "id": "tqFOxYPqVFvi",
        "outputId": "f6319282-fcff-45ef-d2e6-a244041a644b"
      },
      "execution_count": null,
      "outputs": [
        {
          "output_type": "stream",
          "name": "stdout",
          "text": [
            "1\n",
            "1\n",
            "1\n",
            "1\n"
          ]
        }
      ]
    },
    {
      "cell_type": "code",
      "source": [
        "np.where(ti == 311)"
      ],
      "metadata": {
        "colab": {
          "base_uri": "https://localhost:8080/"
        },
        "id": "Niedcs23VHJ5",
        "outputId": "927d06bb-8c22-4c3f-ac6e-ee4553f106d0"
      },
      "execution_count": null,
      "outputs": [
        {
          "output_type": "execute_result",
          "data": {
            "text/plain": [
              "(array([38, 39, 40, 41]),)"
            ]
          },
          "metadata": {},
          "execution_count": 76
        }
      ]
    },
    {
      "cell_type": "code",
      "source": [
        "gi[1] == ti[1]"
      ],
      "metadata": {
        "colab": {
          "base_uri": "https://localhost:8080/"
        },
        "id": "IQl9udDAVA0u",
        "outputId": "0e4eba83-5eea-4d89-d27f-85b0b1e95518"
      },
      "execution_count": null,
      "outputs": [
        {
          "output_type": "execute_result",
          "data": {
            "text/plain": [
              "False"
            ]
          },
          "metadata": {},
          "execution_count": 45
        }
      ]
    },
    {
      "cell_type": "code",
      "source": [
        "(gi[9] == ti[9]).any()"
      ],
      "metadata": {
        "colab": {
          "base_uri": "https://localhost:8080/"
        },
        "id": "Ciwl0UToTZVP",
        "outputId": "8ebaa220-c481-46df-c389-d56b18458224"
      },
      "execution_count": null,
      "outputs": [
        {
          "output_type": "execute_result",
          "data": {
            "text/plain": [
              "False"
            ]
          },
          "metadata": {},
          "execution_count": 42
        }
      ]
    },
    {
      "cell_type": "code",
      "source": [
        "gi[min_index]"
      ],
      "metadata": {
        "colab": {
          "base_uri": "https://localhost:8080/"
        },
        "id": "WeeG3BV1Alp4",
        "outputId": "c7c4cfcf-6861-4306-9001-fbbb9576c0c2"
      },
      "execution_count": null,
      "outputs": [
        {
          "output_type": "execute_result",
          "data": {
            "text/plain": [
              "array([393])"
            ]
          },
          "metadata": {},
          "execution_count": 53
        }
      ]
    },
    {
      "cell_type": "code",
      "source": [
        "ti[min_index]"
      ],
      "metadata": {
        "colab": {
          "base_uri": "https://localhost:8080/"
        },
        "id": "6x7ekxpfAZWX",
        "outputId": "86425edf-9a45-4244-d7a1-06107c2afbdb"
      },
      "execution_count": null,
      "outputs": [
        {
          "output_type": "execute_result",
          "data": {
            "text/plain": [
              "array([320])"
            ]
          },
          "metadata": {},
          "execution_count": 52
        }
      ]
    },
    {
      "cell_type": "code",
      "source": [
        "np.mean(bool_ls)"
      ],
      "metadata": {
        "colab": {
          "base_uri": "https://localhost:8080/"
        },
        "id": "WLdj5C8m1Z6a",
        "outputId": "e9f79752-a121-4df3-8d00-528be8407a4d"
      },
      "execution_count": null,
      "outputs": [
        {
          "output_type": "execute_result",
          "data": {
            "text/plain": [
              "0.0"
            ]
          },
          "metadata": {},
          "execution_count": 21
        }
      ]
    },
    {
      "cell_type": "code",
      "source": [],
      "metadata": {
        "id": "eFoM_Fj2AWS8"
      },
      "execution_count": null,
      "outputs": []
    }
  ]
}