{
  "cells": [
    {
      "cell_type": "markdown",
      "metadata": {
        "id": "view-in-github",
        "colab_type": "text"
      },
      "source": [
        "<a href=\"https://colab.research.google.com/github/ashishsaini01/Anomaly_detection_using_autoencoders/blob/main/Example_code_for_siamese_HOG.ipynb\" target=\"_parent\"><img src=\"https://colab.research.google.com/assets/colab-badge.svg\" alt=\"Open In Colab\"/></a>"
      ]
    },
    {
      "cell_type": "code",
      "execution_count": null,
      "metadata": {
        "id": "L1d4bdfAsJi2"
      },
      "outputs": [],
      "source": [
        "import numpy as np\n",
        "import tensorflow as tf\n",
        "import tensorflow.keras.backend as k\n",
        "import matplotlib.pyplot as plt\n",
        "import random\n",
        "import cv2\n",
        "\n",
        "from google.colab.patches import cv2_imshow\n",
        "from skimage.feature import hog\n",
        "from skimage import color"
      ]
    },
    {
      "cell_type": "code",
      "execution_count": null,
      "metadata": {
        "colab": {
          "base_uri": "https://localhost:8080/"
        },
        "id": "BfiOL5ToZL_L",
        "outputId": "9b20a02f-dcbe-4dbd-eda3-e022ccf9d4b9"
      },
      "outputs": [
        {
          "output_type": "stream",
          "name": "stdout",
          "text": [
            "Mounted at /content/drive\n"
          ]
        }
      ],
      "source": [
        "# mounting google drive for easy data reading\n",
        "from google.colab import drive\n",
        "drive.mount('/content/drive')"
      ]
    },
    {
      "cell_type": "code",
      "execution_count": null,
      "metadata": {
        "id": "tDoyDRhtbef-"
      },
      "outputs": [],
      "source": [
        "data = np.load('/content/drive/MyDrive/compress7.npz')\n",
        "x, g, tx, ty, i, gi, ti = data['x'], data['gx'], data['tx'], data['ty'], data['i'], data['gi'], data['ti']"
      ]
    },
    {
      "cell_type": "code",
      "source": [
        "data = np.load('/content/drive/MyDrive/full_0.npz')\n",
        "# print(data.files)\n",
        "x, g, tx, ty, i, gi, ti = data['x'], data['gx'], data['tx'], data['tn'], data['i'], data['gi'], data['ti']"
      ],
      "metadata": {
        "id": "_R6qU6B8xHPc"
      },
      "execution_count": null,
      "outputs": []
    },
    {
      "cell_type": "code",
      "source": [
        "def hog_fun(x):\n",
        "  image = color.rgb2gray(x) # coverting image into gray scale\n",
        "  hog_descriptor, hog_image = hog(image, visualize = True) # calculating hog \n",
        "  return hog_descriptor"
      ],
      "metadata": {
        "id": "JK6fel9cmMDg"
      },
      "execution_count": null,
      "outputs": []
    },
    {
      "cell_type": "code",
      "source": [
        "hog_fun(x[0]).shape"
      ],
      "metadata": {
        "colab": {
          "base_uri": "https://localhost:8080/"
        },
        "id": "CCCoZXM0OBTF",
        "outputId": "b27ffb07-d70d-4b39-d727-b04f2e6aedc5"
      },
      "execution_count": null,
      "outputs": [
        {
          "output_type": "execute_result",
          "data": {
            "text/plain": [
              "(52164,)"
            ]
          },
          "metadata": {},
          "execution_count": 23
        }
      ]
    },
    {
      "cell_type": "code",
      "source": [
        "for i in x:\n",
        "  arr = hog_fun(i)\n",
        "  break"
      ],
      "metadata": {
        "id": "atC1rZF5OMzK"
      },
      "execution_count": null,
      "outputs": []
    },
    {
      "cell_type": "code",
      "source": [
        "arr"
      ],
      "metadata": {
        "colab": {
          "base_uri": "https://localhost:8080/"
        },
        "id": "pdAzsCZejHJE",
        "outputId": "5142f11d-e745-4626-936e-cea3e81feabc"
      },
      "execution_count": null,
      "outputs": [
        {
          "output_type": "execute_result",
          "data": {
            "text/plain": [
              "array([0.10027885, 0.09358282, 0.04012719, ..., 0.20752307, 0.11577806,\n",
              "       0.03389037])"
            ]
          },
          "metadata": {},
          "execution_count": 7
        }
      ]
    },
    {
      "cell_type": "code",
      "source": [
        "x_hog = []\n",
        "for h in x:\n",
        "  arr = hog_fun(h)\n",
        "  #arr = arr.reshape(52164)\n",
        "  x_hog.append(arr)"
      ],
      "metadata": {
        "id": "9XGWt0FUmtsg"
      },
      "execution_count": null,
      "outputs": []
    },
    {
      "cell_type": "code",
      "source": [
        "g_hog = []\n",
        "for j in g:\n",
        "  arr = hog_fun(j)\n",
        "  #arr = arr.reshape(52164, 1)\n",
        "  g_hog.append(arr)\n",
        "\n",
        "tx_hog = []\n",
        "for l in tx:\n",
        "  arr = hog_fun(l)\n",
        "  #arr = arr.reshape(52164, 1)\n",
        "  tx_hog.append(arr)"
      ],
      "metadata": {
        "id": "NMSjUYsRTVlL"
      },
      "execution_count": null,
      "outputs": []
    },
    {
      "cell_type": "code",
      "source": [
        "np.array(x_hog).shape, np.array(g_hog).shape, np.array(tx_hog[0]).shape"
      ],
      "metadata": {
        "colab": {
          "base_uri": "https://localhost:8080/"
        },
        "id": "RonNqvGPnV0T",
        "outputId": "88157e83-337c-4aff-8ca8-527ae5707219"
      },
      "execution_count": null,
      "outputs": [
        {
          "output_type": "execute_result",
          "data": {
            "text/plain": [
              "((3000, 52164), (202, 52164), (52164,))"
            ]
          },
          "metadata": {},
          "execution_count": 8
        }
      ]
    },
    {
      "cell_type": "code",
      "source": [
        "x_hog = np.array(x_hog)\n",
        "g_hog = np.array(g_hog)\n",
        "tx_hog = np.array(tx_hog)"
      ],
      "metadata": {
        "id": "9vwCP1qiVg7P"
      },
      "execution_count": null,
      "outputs": []
    },
    {
      "cell_type": "code",
      "source": [
        "np.savez_compressed(\"hog_data.npz\", x_hog = x_hog, g_hog = g_hog, tx_hog = tx_hog, ty=ty, i=i, gi=gi, ti=ti)"
      ],
      "metadata": {
        "id": "hfShnQUogPJq"
      },
      "execution_count": null,
      "outputs": []
    },
    {
      "cell_type": "code",
      "source": [
        "data = np.load('/content/drive/MyDrive/hog_data.npz')\n",
        "# print(data.files)\n",
        "x_hog, g_hog, tx_hog, ty, i, gi, ti = data['x_hog'], data['g_hog'], data['tx_hog'], data['ty'], data['i'], data['gi'], data['ti']"
      ],
      "metadata": {
        "id": "8aZ045K0axuL"
      },
      "execution_count": null,
      "outputs": []
    },
    {
      "cell_type": "code",
      "execution_count": null,
      "metadata": {
        "colab": {
          "base_uri": "https://localhost:8080/"
        },
        "id": "ktUwU5WHUspu",
        "outputId": "1e7f2dac-7c37-49c3-c7cb-e5796047199e"
      },
      "outputs": [
        {
          "output_type": "execute_result",
          "data": {
            "text/plain": [
              "((3000, 52164), (202, 52164))"
            ]
          },
          "metadata": {},
          "execution_count": 5
        }
      ],
      "source": [
        "x_hog.shape, g_hog.shape #tx.shape, len(i), len(gi), ty.shape"
      ]
    },
    {
      "cell_type": "code",
      "execution_count": null,
      "metadata": {
        "colab": {
          "base_uri": "https://localhost:8080/"
        },
        "id": "4AVJ-WYPUL12",
        "outputId": "636077b8-6156-48fe-df1b-92b78a04d3f4"
      },
      "outputs": [
        {
          "data": {
            "text/plain": [
              "((905, 32, 96, 3), (100, 32, 96, 3))"
            ]
          },
          "execution_count": 6,
          "metadata": {},
          "output_type": "execute_result"
        }
      ],
      "source": [
        "tx.shape, g.shape"
      ]
    },
    {
      "cell_type": "code",
      "execution_count": null,
      "metadata": {
        "id": "fWh3D4RFmcC3"
      },
      "outputs": [],
      "source": [
        "# from re import X\n",
        "def create_batch(batch_size=500):\n",
        "    x_anchors = np.zeros((batch_size, 52164))\n",
        "    x_positives = np.zeros((batch_size, 52164))\n",
        "    x_negatives = np.zeros((batch_size, 52164))\n",
        "    \n",
        "    for j in range(0, batch_size):\n",
        "        # We need to find an anchor, a positive example and a negative example\n",
        "        random_index = random.randint(0, x_hog.shape[0] - 1)\n",
        "        x_anchor = x_hog[random_index]\n",
        "\n",
        "        pos_index = random.randint(0, x_hog.shape[0] - 1)\n",
        "\n",
        "        while pos_index == random_index or i[pos_index] != i[random_index]:\n",
        "          pos_index = random.randint(0, x_hog.shape[0] - 1)\n",
        "\n",
        "        x_positive = x_hog[pos_index]  # also for the same pallet block\n",
        "        \n",
        "        random_index_neg = random.randint(0, x_hog.shape[0] - 1)\n",
        "\n",
        "        while random_index_neg == random_index or i[random_index] == i[random_index_neg]:\n",
        "          random_index_neg = random.randint(0, x_hog.shape[0] - 1)\n",
        "         \n",
        "        x_negative = x_hog[random_index_neg]\n",
        "        \n",
        "        x_anchors[j] = x_anchor\n",
        "        x_positives[j] = x_positive\n",
        "        x_negatives[j] = x_negative\n",
        "        \n",
        "    x_anchors = np.expand_dims(x_anchors, axis = 1)\n",
        "    x_positives = np.expand_dims(x_positives, axis = 1)\n",
        "    x_negatives = np.expand_dims(x_negatives, axis = 1)\n",
        "\n",
        "    k = np.concatenate([x_anchors, x_positives, x_negatives], axis = 1)\n",
        "        \n",
        "    return k"
      ]
    },
    {
      "cell_type": "code",
      "execution_count": null,
      "metadata": {
        "id": "nwIrnP0Lmb7p"
      },
      "outputs": [],
      "source": [
        "examples = create_batch(1)\n",
        "# plot_triplets(examples)"
      ]
    },
    {
      "cell_type": "code",
      "execution_count": null,
      "metadata": {
        "id": "szB1PTliII1s"
      },
      "outputs": [],
      "source": [
        "# dim = 10\n",
        "# alpha = 100"
      ]
    },
    {
      "cell_type": "code",
      "source": [
        "input_shape = (4, 10, 128)\n",
        "input_shape[1:]"
      ],
      "metadata": {
        "colab": {
          "base_uri": "https://localhost:8080/"
        },
        "id": "ryliMNCDVW9v",
        "outputId": "2b55bf66-4a11-44aa-b277-018d7eb66928"
      },
      "execution_count": null,
      "outputs": [
        {
          "output_type": "execute_result",
          "data": {
            "text/plain": [
              "(10, 128)"
            ]
          },
          "metadata": {},
          "execution_count": 21
        }
      ]
    },
    {
      "cell_type": "code",
      "execution_count": null,
      "metadata": {
        "colab": {
          "base_uri": "https://localhost:8080/"
        },
        "id": "fxZREdsriPjL",
        "outputId": "e83234c4-ec67-42cd-92cd-3dbe3aac850d"
      },
      "outputs": [
        {
          "output_type": "stream",
          "name": "stdout",
          "text": [
            "Model: \"sequential\"\n",
            "_________________________________________________________________\n",
            " Layer (type)                Output Shape              Param #   \n",
            "=================================================================\n",
            " flatten (Flatten)           (None, 52164)             0         \n",
            "                                                                 \n",
            " dense (Dense)               (None, 128)               6677120   \n",
            "                                                                 \n",
            " dense_1 (Dense)             (None, 128)               16512     \n",
            "                                                                 \n",
            " dense_2 (Dense)             (None, 32)                4128      \n",
            "                                                                 \n",
            "=================================================================\n",
            "Total params: 6,697,760\n",
            "Trainable params: 6,697,760\n",
            "Non-trainable params: 0\n",
            "_________________________________________________________________\n"
          ]
        }
      ],
      "source": [
        "# Embedding model\n",
        "emb_size = 64\n",
        "\n",
        "# embedding_model = tf.keras.models.Sequential([\n",
        "#     tf.keras.layers.Conv2D(emb_size, (3, 3), activation = 'relu', strides = 2, padding = 'same', input_shape = (32, 96, 3)),\n",
        "#     tf.keras.layers.Conv2D(emb_size/2, (3, 3), activation = 'relu', strides = 2, padding = 'same'),\n",
        "#     tf.keras.layers.Flatten(),\n",
        "#     tf.keras.layers.Dense(emb_size/2, activation = 'relu'),\n",
        "#     tf.keras.layers.Dense(10, activation = 'sigmoid')\n",
        "# ])\n",
        "\n",
        "# model version 2\n",
        "\n",
        "embedding_model = tf.keras.models.Sequential([\n",
        "    # tf.keras.layers.Conv1D(emb_size*2, 3, activation = 'relu', strides = 2, padding = 'same', input_shape = (52164, 1)),\n",
        "    # tf.keras.layers.Conv1D(emb_size, 3, activation = 'relu', padding = 'same'),\n",
        "    # tf.keras.layers.MaxPool1D(pool_size = 2),\n",
        "    # tf.keras.layers.Conv1D(emb_size/2, 5),\n",
        "    # tf.keras.layers.Dropout(0.5),\n",
        "    #tf.keras.Input(shape = (52164)),\n",
        "    tf.keras.layers.Flatten(input_shape = (52164,)),\n",
        "    tf.keras.layers.Dense(128, activation = 'relu'),\n",
        "    tf.keras.layers.Dense(128, activation = 'relu'),\n",
        "    # tf.keras.layers.Dropout(0.5),\n",
        "    tf.keras.layers.Dense(32)\n",
        "])\n",
        "\n",
        "embedding_model.summary()\n",
        "\n",
        "# input_layer1 = tf.keras.layers.Input(shape = tri_data.shape[2:])"
      ]
    },
    {
      "cell_type": "code",
      "source": [
        "import tensorflow.keras.backend as k"
      ],
      "metadata": {
        "id": "ZNTuY4TZeJhc"
      },
      "execution_count": null,
      "outputs": []
    },
    {
      "cell_type": "code",
      "execution_count": null,
      "metadata": {
        "colab": {
          "base_uri": "https://localhost:8080/"
        },
        "id": "42xAebLSjdsH",
        "outputId": "2f473d85-3236-481a-e68c-38f4cfef6faa"
      },
      "outputs": [
        {
          "output_type": "stream",
          "name": "stdout",
          "text": [
            "Model: \"model\"\n",
            "__________________________________________________________________________________________________\n",
            " Layer (type)                   Output Shape         Param #     Connected to                     \n",
            "==================================================================================================\n",
            " input_1 (InputLayer)           [(None, 3, 52164)]   0           []                               \n",
            "                                                                                                  \n",
            " tf.__operators__.getitem (Slic  (None, 52164)       0           ['input_1[0][0]']                \n",
            " ingOpLambda)                                                                                     \n",
            "                                                                                                  \n",
            " tf.__operators__.getitem_1 (Sl  (None, 52164)       0           ['input_1[0][0]']                \n",
            " icingOpLambda)                                                                                   \n",
            "                                                                                                  \n",
            " tf.__operators__.getitem_2 (Sl  (None, 52164)       0           ['input_1[0][0]']                \n",
            " icingOpLambda)                                                                                   \n",
            "                                                                                                  \n",
            " sequential (Sequential)        (None, 32)           6697760     ['tf.__operators__.getitem[0][0]'\n",
            "                                                                 , 'tf.__operators__.getitem_1[0][\n",
            "                                                                 0]',                             \n",
            "                                                                  'tf.__operators__.getitem_2[0][0\n",
            "                                                                 ]']                              \n",
            "                                                                                                  \n",
            " tf.expand_dims (TFOpLambda)    (None, 1, 32)        0           ['sequential[0][0]']             \n",
            "                                                                                                  \n",
            " tf.expand_dims_2 (TFOpLambda)  (None, 1, 32)        0           ['sequential[1][0]']             \n",
            "                                                                                                  \n",
            " tf.expand_dims_1 (TFOpLambda)  (None, 1, 32)        0           ['sequential[2][0]']             \n",
            "                                                                                                  \n",
            " concatenate (Concatenate)      (None, 3, 32)        0           ['tf.expand_dims[0][0]',         \n",
            "                                                                  'tf.expand_dims_2[0][0]',       \n",
            "                                                                  'tf.expand_dims_1[0][0]']       \n",
            "                                                                                                  \n",
            "==================================================================================================\n",
            "Total params: 6,697,760\n",
            "Trainable params: 6,697,760\n",
            "Non-trainable params: 0\n",
            "__________________________________________________________________________________________________\n"
          ]
        }
      ],
      "source": [
        "# siamese network\n",
        "siamese_input = tf.keras.Input(shape = (3, 52164))\n",
        "input_anchor =  siamese_input[:, 0]                                              #tf.keras.layers.Input(shape=(32, 96, 3))\n",
        "input_positive = siamese_input[:, 1]                                             #tf.keras.layers.Input(shape=(32, 96, 3))\n",
        "input_negative = siamese_input[:, 2]                                             #tf.keras.layers.Input(shape=(32, 96, 3))\n",
        "\n",
        "embedding_anchor = embedding_model(input_anchor)\n",
        "embedding_positive = embedding_model(input_positive)\n",
        "embedding_negative = embedding_model(input_negative)\n",
        "\n",
        "embedding_anchor = k.expand_dims(embedding_anchor, 1)\n",
        "embedding_negative = k.expand_dims(embedding_negative, 1)\n",
        "embedding_positive = k.expand_dims(embedding_positive, 1)\n",
        "\n",
        "\n",
        "output = tf.keras.layers.concatenate([embedding_anchor, embedding_positive, embedding_negative], axis=1) \n",
        "\n",
        "model = tf.keras.models.Model(siamese_input, output)\n",
        "model.summary()"
      ]
    },
    {
      "cell_type": "code",
      "execution_count": null,
      "metadata": {
        "id": "HWixrUxt7tHe"
      },
      "outputs": [],
      "source": [
        "# alpha = 0.02\n",
        "# alpha = 0.05\n",
        "# alpha = 0.07\n",
        "alpha = 0.001\n",
        "# alpha = 1.0\n",
        "# alpha = 0.01\n",
        "\n",
        "# pos = k.sqrt(k.mean((embedding_anchor - embedding_positive)**2, axis = 1))\n",
        "# neg = k.sqrt(k.mean((embedding_anchor - embedding_negative)**2, axis = 1))\n",
        "\n",
        "pos = k.mean((embedding_anchor - embedding_positive)**2, axis = 1)\n",
        "neg = k.mean((embedding_anchor - embedding_negative)**2, axis = 1)\n",
        "\n",
        "loss = k.mean(k.relu(pos - neg + alpha)) "
      ]
    },
    {
      "cell_type": "code",
      "execution_count": null,
      "metadata": {
        "id": "eAVsGL_DFRCr",
        "colab": {
          "base_uri": "https://localhost:8080/"
        },
        "outputId": "db41d9a2-58a2-4052-9754-da5bb4fa9f93"
      },
      "outputs": [
        {
          "output_type": "execute_result",
          "data": {
            "text/plain": [
              "(3000, 3, 52164)"
            ]
          },
          "metadata": {},
          "execution_count": 10
        }
      ],
      "source": [
        "batch_size = 3000\n",
        "x_train = create_batch(batch_size)\n",
        "x_train = np.array(x_train)\n",
        "x_train.shape"
      ]
    },
    {
      "cell_type": "code",
      "execution_count": null,
      "metadata": {
        "id": "4TtrzUAzuwx4"
      },
      "outputs": [],
      "source": [
        "# np.savez_compressed(\"/content/drive/MyDrive/x_train_data_20000\", x = x_train)"
      ]
    },
    {
      "cell_type": "code",
      "execution_count": null,
      "metadata": {
        "colab": {
          "base_uri": "https://localhost:8080/"
        },
        "id": "hab67QM0BhVr",
        "outputId": "9e5bcd35-5e13-47af-e87c-fa616f50cf5d"
      },
      "outputs": [
        {
          "output_type": "stream",
          "name": "stdout",
          "text": [
            "Epoch 1/25\n",
            "24/24 [==============================] - 8s 95ms/step - loss: 0.0024 - val_loss: 0.0020\n",
            "Epoch 2/25\n",
            "24/24 [==============================] - 1s 56ms/step - loss: 0.0013 - val_loss: 9.5927e-04\n",
            "Epoch 3/25\n",
            "24/24 [==============================] - 1s 55ms/step - loss: 4.7967e-04 - val_loss: 7.6963e-04\n",
            "Epoch 4/25\n",
            "24/24 [==============================] - 1s 55ms/step - loss: 2.9037e-04 - val_loss: 6.9706e-04\n",
            "Epoch 5/25\n",
            "24/24 [==============================] - 1s 58ms/step - loss: 1.8030e-04 - val_loss: 8.1757e-04\n",
            "Epoch 6/25\n",
            "24/24 [==============================] - 2s 82ms/step - loss: 1.5365e-04 - val_loss: 8.6577e-04\n",
            "Epoch 7/25\n",
            "24/24 [==============================] - 3s 144ms/step - loss: 1.5715e-04 - val_loss: 8.5593e-04\n",
            "Epoch 8/25\n",
            "24/24 [==============================] - 2s 103ms/step - loss: 1.1036e-04 - val_loss: 9.4660e-04\n",
            "Epoch 9/25\n",
            "24/24 [==============================] - 2s 90ms/step - loss: 7.9772e-05 - val_loss: 0.0011\n",
            "Epoch 10/25\n",
            "24/24 [==============================] - 2s 100ms/step - loss: 8.6797e-05 - val_loss: 0.0011\n",
            "Epoch 11/25\n",
            "24/24 [==============================] - 2s 78ms/step - loss: 7.9816e-05 - val_loss: 0.0011\n",
            "Epoch 12/25\n",
            "24/24 [==============================] - 1s 57ms/step - loss: 8.3649e-05 - val_loss: 0.0011\n"
          ]
        }
      ],
      "source": [
        "# batch_size = 2048\n",
        "epochs = 25\n",
        "# steps_per_epoch = 25\n",
        "\n",
        "model.add_loss(loss)\n",
        "\n",
        "\n",
        "model.compile(optimizer='adam')\n",
        "\n",
        "callback = tf.keras.callbacks.EarlyStopping(monitor = 'loss', patience = 3, mode = 'min') # for early stopping\n",
        "\n",
        "history = model.fit(\n",
        "    x_train,\n",
        "    batch_size = 100,\n",
        "    epochs=epochs, verbose=True, callbacks = [callback], validation_split = 0.2)"
      ]
    },
    {
      "cell_type": "code",
      "execution_count": null,
      "metadata": {
        "colab": {
          "base_uri": "https://localhost:8080/",
          "height": 279
        },
        "id": "0mnURm_-xQey",
        "outputId": "f054470a-da1d-4230-e9ca-43108bc4489f"
      },
      "outputs": [
        {
          "output_type": "display_data",
          "data": {
            "text/plain": [
              "<Figure size 432x288 with 1 Axes>"
            ],
            "image/png": "[encoded data removed]"
          },
          "metadata": {
            "needs_background": "light"
          }
        }
      ],
      "source": [
        "# ploting \n",
        "plt.plot(history.history['loss'])\n",
        "plt.plot(history.history['val_loss'])\n",
        "plt.xlabel('Epochs')\n",
        "plt.ylabel('Loss')\n",
        "\n",
        "plt.legend(['loss', 'val_loss'])\n",
        "plt.show()"
      ]
    },
    {
      "cell_type": "code",
      "execution_count": null,
      "metadata": {
        "colab": {
          "base_uri": "https://localhost:8080/"
        },
        "id": "KCiPr-MVxEcZ",
        "outputId": "0fa8e88c-abc6-4a0e-83eb-ba8acb268f5e"
      },
      "outputs": [
        {
          "output_type": "stream",
          "name": "stdout",
          "text": [
            "94/94 [==============================] - 0s 4ms/step\n",
            "7/7 [==============================] - 0s 5ms/step\n",
            "26/26 [==============================] - 0s 4ms/step\n"
          ]
        }
      ],
      "source": [
        "x_predict = embedding_model.predict(x_hog)\n",
        "g_predict = embedding_model.predict(g_hog)\n",
        "t_predict = embedding_model.predict(tx_hog)"
      ]
    },
    {
      "cell_type": "code",
      "execution_count": null,
      "metadata": {
        "id": "5dHyTHH77m2K"
      },
      "outputs": [],
      "source": [
        "bool_ls = []\n",
        "for n in range(0, t_predict.shape[0]):\n",
        "  if ty[n] == 1: continue\n",
        "  p_2 = t_predict[n]\n",
        "  sub = g_predict - p_2\n",
        "  dist = np.mean((sub)**2, axis = 1)\n",
        "  min_index = np.argsort(dist)[:1]\n",
        "  if (gi[min_index] == ti[n]).any(): bool_ls.append(1)\n",
        "  else: bool_ls.append(0)"
      ]
    },
    {
      "cell_type": "code",
      "execution_count": null,
      "metadata": {
        "colab": {
          "base_uri": "https://localhost:8080/"
        },
        "id": "dV16tZ1v7pY6",
        "outputId": "3ec700d4-5834-4ec1-caac-67580a728569"
      },
      "outputs": [
        {
          "output_type": "execute_result",
          "data": {
            "text/plain": [
              "0.04826732673267327"
            ]
          },
          "metadata": {},
          "execution_count": 16
        }
      ],
      "source": [
        "np.mean(bool_ls)"
      ]
    },
    {
      "cell_type": "code",
      "execution_count": null,
      "metadata": {
        "id": "c6yZ5Sn3Gd-V"
      },
      "outputs": [],
      "source": [
        "# np.savez_compressed(\"/content/drive/MyDrive/compress_predictions.npz\", x_pre = x_predict, g_pre = g_predict, t_pre = t_predict)"
      ]
    },
    {
      "cell_type": "code",
      "execution_count": null,
      "metadata": {
        "colab": {
          "base_uri": "https://localhost:8080/"
        },
        "id": "pWZhuKpaXjVK",
        "outputId": "98ed375d-3033-424b-cc07-1d940ce63891"
      },
      "outputs": [
        {
          "data": {
            "text/plain": [
              "(1505, 32)"
            ]
          },
          "execution_count": 14,
          "metadata": {},
          "output_type": "execute_result"
        }
      ],
      "source": [
        "x_predict.shape"
      ]
    },
    {
      "cell_type": "code",
      "execution_count": null,
      "metadata": {
        "colab": {
          "base_uri": "https://localhost:8080/"
        },
        "id": "g2AupwVPd6Ka",
        "outputId": "a6906812-2e23-481f-8d25-c06ff345a7ad"
      },
      "outputs": [
        {
          "data": {
            "text/plain": [
              "TensorShape([1, 32, 96, 3])"
            ]
          },
          "execution_count": 30,
          "metadata": {},
          "output_type": "execute_result"
        }
      ],
      "source": [
        "k.expand_dims(x[i[0]], axis = 0).shape"
      ]
    },
    {
      "cell_type": "code",
      "execution_count": null,
      "metadata": {
        "colab": {
          "base_uri": "https://localhost:8080/"
        },
        "id": "Hd2IIjoeg5tN",
        "outputId": "daea0b98-e625-4675-a3c7-49841691f87b"
      },
      "outputs": [
        {
          "name": "stdout",
          "output_type": "stream",
          "text": [
            "1/1 [==============================] - 0s 19ms/step\n",
            "1/1 [==============================] - 0s 24ms/step\n",
            "1/1 [==============================] - 0s 18ms/step\n",
            "(1, 10) (1, 10) (1, 10)\n"
          ]
        }
      ],
      "source": [
        "x_1 = embedding_model.predict(k.expand_dims(x[gi[1]], axis = 0))\n",
        "tx_1 = embedding_model.predict(k.expand_dims(tx[gi[1]], axis = 0))\n",
        "g_1 = embedding_model.predict(k.expand_dims(g[1], axis = 0))\n",
        "print(tx_1.shape, x_1.shape, g_1.shape)"
      ]
    },
    {
      "cell_type": "code",
      "execution_count": null,
      "metadata": {
        "colab": {
          "base_uri": "https://localhost:8080/"
        },
        "id": "vj8NOJLsWWVt",
        "outputId": "86adec65-c6b8-4e0b-cc93-f7c70a534f47"
      },
      "outputs": [
        {
          "data": {
            "text/plain": [
              "array([407, 450, 306, ..., 291, 233, 186])"
            ]
          },
          "execution_count": 18,
          "metadata": {},
          "output_type": "execute_result"
        }
      ],
      "source": [
        "i"
      ]
    },
    {
      "cell_type": "code",
      "execution_count": null,
      "metadata": {
        "colab": {
          "base_uri": "https://localhost:8080/"
        },
        "id": "4TSAYJrbV2zG",
        "outputId": "2655b4ff-7f95-46e7-de19-247f12eeef79"
      },
      "outputs": [
        {
          "data": {
            "text/plain": [
              "(array([294, 299, 309, 504]),)"
            ]
          },
          "execution_count": 17,
          "metadata": {},
          "output_type": "execute_result"
        }
      ],
      "source": [
        "np.where(ti == 216)"
      ]
    },
    {
      "cell_type": "code",
      "execution_count": null,
      "metadata": {
        "colab": {
          "base_uri": "https://localhost:8080/"
        },
        "id": "KiZrCjYskA48",
        "outputId": "5fad466d-d93f-4679-dd31-a918993f09e9"
      },
      "outputs": [
        {
          "data": {
            "text/plain": [
              "array([ 98, 216, 468,  94, 331, 164, 445,  96, 114, 285,  77,  47, 197,\n",
              "        55,  46, 345, 277, 139, 436,  97, 405, 265, 148, 262, 109, 274,\n",
              "       222, 133, 185, 464, 396, 326, 410, 446, 444, 155, 195, 369, 212,\n",
              "       371, 113,  58, 154, 492, 487, 346, 359, 358, 217, 387, 224, 328,\n",
              "       318, 287, 244, 257,  73, 193, 219, 218,  10, 426, 337,  20, 272,\n",
              "       146, 477, 283, 501, 166, 397, 220, 495, 240, 103, 297, 163, 172,\n",
              "       389, 296, 179, 443, 470,   3, 360, 502, 173,  80,  29, 249, 236,\n",
              "       116, 234, 367, 329,  18,  16,  34, 149, 366])"
            ]
          },
          "execution_count": 41,
          "metadata": {},
          "output_type": "execute_result"
        }
      ],
      "source": [
        "gi"
      ]
    },
    {
      "cell_type": "code",
      "execution_count": null,
      "metadata": {
        "colab": {
          "base_uri": "https://localhost:8080/"
        },
        "id": "2HtJuyL_Wxsc",
        "outputId": "9b6385ed-7659-4fc8-9d37-dc05b0c75b3f"
      },
      "outputs": [
        {
          "name": "stdout",
          "output_type": "stream",
          "text": [
            "[[1.         0.06432306]\n",
            " [0.06432306 1.        ]] \n",
            "\n",
            " [[1.         0.81642268]\n",
            " [0.81642268 1.        ]]\n"
          ]
        }
      ],
      "source": [
        "matrix = np.corrcoef(x_1, tx_1)\n",
        "matrix2 = np.corrcoef(x_1, g_1)\n",
        " \n",
        "# print matrix\n",
        "print(matrix, '\\n\\n', matrix2)"
      ]
    },
    {
      "cell_type": "code",
      "execution_count": null,
      "metadata": {
        "id": "2gAjMfwXI84F"
      },
      "outputs": [],
      "source": [
        "predict_data = np.load('/content/drive/MyDrive/compress_predictions.npz')\n",
        "x_pre, g_pre, t_pre = predict_data['x_pre'], predict_data['g_pre'], predict_data['t_pre']"
      ]
    },
    {
      "cell_type": "code",
      "execution_count": null,
      "metadata": {
        "id": "qtqQQ_ysZMcJ"
      },
      "outputs": [],
      "source": [
        "p_1 = g_pre[1] # j"
      ]
    },
    {
      "cell_type": "code",
      "execution_count": null,
      "metadata": {
        "id": "x_Dm30yrZCYV"
      },
      "outputs": [],
      "source": [
        "p_2 = t_pre[504] # i"
      ]
    },
    {
      "cell_type": "code",
      "execution_count": null,
      "metadata": {
        "colab": {
          "base_uri": "https://localhost:8080/"
        },
        "id": "cb8riPXdh1B6",
        "outputId": "6bd29885-7755-4473-f750-43782826aefb"
      },
      "outputs": [
        {
          "data": {
            "text/plain": [
              "(905, 10)"
            ]
          },
          "execution_count": 19,
          "metadata": {},
          "output_type": "execute_result"
        }
      ],
      "source": [
        "t_predict.shape"
      ]
    },
    {
      "cell_type": "code",
      "execution_count": null,
      "metadata": {
        "colab": {
          "base_uri": "https://localhost:8080/"
        },
        "id": "weVp7gKWfRq0",
        "outputId": "83b5f086-d837-4522-9ac9-1f156875377a"
      },
      "outputs": [
        {
          "data": {
            "text/plain": [
              "(905, 32)"
            ]
          },
          "execution_count": 43,
          "metadata": {},
          "output_type": "execute_result"
        }
      ],
      "source": [
        "t_pre.shape"
      ]
    },
    {
      "cell_type": "code",
      "execution_count": null,
      "metadata": {
        "id": "nv1M7PB5ev4t"
      },
      "outputs": [],
      "source": [
        "bool_ls = []\n",
        "for n in range(0, t_predict.shape[0]):\n",
        "  if ty[n] == 1: continue\n",
        "  p_2 = t_predict[n]\n",
        "  sub = g_predict - p_2\n",
        "  dist = np.mean((sub)**2, axis = 1)\n",
        "  min_index = np.argsort(dist)[:5]\n",
        "  if (gi[min_index] == ti[n]).any(): bool_ls.append(1)\n",
        "  else: bool_ls.append(0)"
      ]
    },
    {
      "cell_type": "code",
      "execution_count": null,
      "metadata": {
        "colab": {
          "base_uri": "https://localhost:8080/"
        },
        "id": "bN2DzFzPgdq0",
        "outputId": "15bac0bc-53fd-4dd5-89b9-cb512584ec72"
      },
      "outputs": [
        {
          "data": {
            "text/plain": [
              "0.3225"
            ]
          },
          "execution_count": 15,
          "metadata": {},
          "output_type": "execute_result"
        }
      ],
      "source": [
        "np.mean(bool_ls)"
      ]
    },
    {
      "cell_type": "code",
      "execution_count": null,
      "metadata": {
        "colab": {
          "base_uri": "https://localhost:8080/"
        },
        "id": "H0pgEkGFaca0",
        "outputId": "ca7296b4-fe53-4c11-a71d-2ac8e4a7980b"
      },
      "outputs": [
        {
          "data": {
            "text/plain": [
              "38"
            ]
          },
          "execution_count": 37,
          "metadata": {},
          "output_type": "execute_result"
        }
      ],
      "source": [
        "sub = g_pre - p_2\n",
        "dist = np.mean((sub)**2, axis = 1)\n",
        "# sub.shape\n",
        "np.argsort(dist)[0]"
      ]
    },
    {
      "cell_type": "code",
      "execution_count": null,
      "metadata": {
        "colab": {
          "base_uri": "https://localhost:8080/"
        },
        "id": "KbOgtDE6ZuRi",
        "outputId": "113c2917-0296-4795-9907-c95ebbd1fdba"
      },
      "outputs": [
        {
          "data": {
            "text/plain": [
              "0.00055384514"
            ]
          },
          "execution_count": 31,
          "metadata": {},
          "output_type": "execute_result"
        }
      ],
      "source": [
        "np.mean((p_1 - p_2)**2)"
      ]
    },
    {
      "cell_type": "code",
      "execution_count": null,
      "metadata": {
        "colab": {
          "base_uri": "https://localhost:8080/"
        },
        "id": "kGC6ppLgZkfp",
        "outputId": "2da2eeba-492e-4668-9aab-52c853fa6139"
      },
      "outputs": [
        {
          "name": "stdout",
          "output_type": "stream",
          "text": [
            "[[1.         0.99949293]\n",
            " [0.99949293 1.        ]] \n",
            "\n",
            " [[1.         0.99949293]\n",
            " [0.99949293 1.        ]]\n"
          ]
        }
      ],
      "source": [
        "matrix2 = np.corrcoef(p_1, p_2)\n",
        " \n",
        "# print matrix\n",
        "print(matrix2, '\\n\\n', matrix2)"
      ]
    },
    {
      "cell_type": "code",
      "execution_count": null,
      "metadata": {
        "id": "g6nKSihjMyYo"
      },
      "outputs": [],
      "source": [
        "x_pre, g_pre, t_pre = x_predict, g_predict, t_predict"
      ]
    },
    {
      "cell_type": "code",
      "execution_count": null,
      "metadata": {
        "colab": {
          "base_uri": "https://localhost:8080/"
        },
        "id": "WYpzq5s7ZvvH",
        "outputId": "3b440afc-88a2-4dd7-9bc3-a82feb9ea972"
      },
      "outputs": [
        {
          "data": {
            "text/plain": [
              "array([0.8322267 , 0.83789957, 0.16034627, 0.8310014 , 0.15188247,\n",
              "       0.84134567, 0.8393223 , 0.8219712 , 0.8312194 , 0.1728259 ,\n",
              "       0.8349191 , 0.16590577, 0.16494566, 0.1809488 , 0.83093226,\n",
              "       0.8198781 , 0.82493395, 0.16758806, 0.17763847, 0.15761149,\n",
              "       0.15721014, 0.83669275, 0.83648694, 0.83631444, 0.8297453 ,\n",
              "       0.17320329, 0.8239547 , 0.82927597, 0.16270399, 0.16562617,\n",
              "       0.8344859 , 0.8441384 ], dtype=float32)"
            ]
          },
          "execution_count": 21,
          "metadata": {},
          "output_type": "execute_result"
        }
      ],
      "source": [
        "x_pre[0]"
      ]
    },
    {
      "cell_type": "code",
      "execution_count": null,
      "metadata": {
        "colab": {
          "base_uri": "https://localhost:8080/",
          "height": 282
        },
        "id": "FsoB_0uC5MVG",
        "outputId": "68929c37-64ab-4c9c-b77e-c0b71d51f96f"
      },
      "outputs": [
        {
          "data": {
            "text/plain": [
              "<matplotlib.legend.Legend at 0x7fe530113510>"
            ]
          },
          "execution_count": 17,
          "metadata": {},
          "output_type": "execute_result"
        },
        {
          "data": {
            "image/png": "[encoded data removed]",
            "text/plain": [
              "<Figure size 432x288 with 1 Axes>"
            ]
          },
          "metadata": {},
          "output_type": "display_data"
        }
      ],
      "source": [
        "g_pre1 = g_pre[:, :2]\n",
        "t_pre1 = t_pre[:, :2]\n",
        "\n",
        "t0 = t_pre1[ty == 0]\n",
        "t1 = t_pre1[ty == 1]\n",
        "\n",
        "plt.plot(g_pre[:,0],  g_pre[:,1], \"o\", label = \"g\")\n",
        "plt.plot(t0[:,0], t0[:,1], \"o\", label = \"t0\")\n",
        "plt.plot(t1[:,0], t1[:,1], \"o\", label = \"t1\")\n",
        "plt.legend()"
      ]
    },
    {
      "cell_type": "code",
      "execution_count": null,
      "metadata": {
        "colab": {
          "base_uri": "https://localhost:8080/",
          "height": 282
        },
        "id": "ayNf45-a5QrQ",
        "outputId": "740e4826-c19e-48c1-e82a-9a7dc5130294"
      },
      "outputs": [
        {
          "data": {
            "text/plain": [
              "<matplotlib.legend.Legend at 0x7fe5300fce50>"
            ]
          },
          "execution_count": 18,
          "metadata": {},
          "output_type": "execute_result"
        },
        {
          "data": {
            "image/png": "[encoded data removed]",
            "text/plain": [
              "<Figure size 432x288 with 1 Axes>"
            ]
          },
          "metadata": {},
          "output_type": "display_data"
        }
      ],
      "source": [
        "g_pre1 = g_pre[:, 3:5]\n",
        "t_pre1 = t_pre[:, 3:5]\n",
        "\n",
        "t0 = t_pre1[ty == 0]\n",
        "t1 = t_pre1[ty == 1]\n",
        "\n",
        "plt.plot(g_pre[:,0],g_pre[:,1],\"o\",label=\"g\")\n",
        "plt.plot(t0[:,0],t0[:,1],\"o\",label=\"t0\")\n",
        "plt.plot(t1[:,0],t1[:,1],\"o\",label=\"t1\")\n",
        "plt.legend()"
      ]
    },
    {
      "cell_type": "code",
      "execution_count": null,
      "metadata": {
        "id": "MZWsPXVe2CdN"
      },
      "outputs": [],
      "source": [
        "g_pre1 = g_pre[:, 8:10]\n",
        "t_pre1 = t_pre[:, 8:10]\n",
        "\n",
        "t0 = t_pre1[ty == 0]\n",
        "t1 = t_pre1[ty == 1]"
      ]
    },
    {
      "cell_type": "code",
      "execution_count": null,
      "metadata": {
        "colab": {
          "base_uri": "https://localhost:8080/",
          "height": 282
        },
        "id": "c4OL3AAu3aio",
        "outputId": "9ca4ec45-9ead-4056-913d-b17cbf217294"
      },
      "outputs": [
        {
          "data": {
            "text/plain": [
              "<matplotlib.legend.Legend at 0x7fe5300b84d0>"
            ]
          },
          "execution_count": 20,
          "metadata": {},
          "output_type": "execute_result"
        },
        {
          "data": {
            "image/png": "[encoded data removed]",
            "text/plain": [
              "<Figure size 432x288 with 1 Axes>"
            ]
          },
          "metadata": {},
          "output_type": "display_data"
        }
      ],
      "source": [
        "plt.plot(g_pre[:,0],g_pre[:,1],\"o\",label=\"g\")\n",
        "plt.plot(t0[:,0],t0[:,1],\"o\",label=\"t0\")\n",
        "plt.plot(t1[:,0],t1[:,1],\"o\",label=\"t1\")\n",
        "plt.legend()"
      ]
    },
    {
      "cell_type": "code",
      "execution_count": null,
      "metadata": {
        "colab": {
          "base_uri": "https://localhost:8080/"
        },
        "id": "mqwd6Jg49V4O",
        "outputId": "c75d4355-8e86-4aa7-c516-936df4ec3297"
      },
      "outputs": [
        {
          "data": {
            "text/plain": [
              "(32, 96, 3)"
            ]
          },
          "execution_count": 45,
          "metadata": {},
          "output_type": "execute_result"
        }
      ],
      "source": [
        "# from sklearn.metrics import roc_auc_score\n",
        "# roc_auc_score(ty, t_pre)\n",
        "g[2].shape"
      ]
    },
    {
      "cell_type": "code",
      "execution_count": null,
      "metadata": {
        "id": "UXYdVigNOgqG"
      },
      "outputs": [],
      "source": []
    }
  ],
  "metadata": {
    "colab": {
      "provenance": [],
      "authorship_tag": "ABX9TyOupYhRlrD8Mlsg4UZPJpEB",
      "include_colab_link": true
    },
    "gpuClass": "standard",
    "kernelspec": {
      "display_name": "Python 3",
      "name": "python3"
    },
    "language_info": {
      "name": "python"
    },
    "accelerator": "GPU"
  },
  "nbformat": 4,
  "nbformat_minor": 0
}