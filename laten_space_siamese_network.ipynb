{
  "nbformat": 4,
  "nbformat_minor": 0,
  "metadata": {
    "colab": {
      "provenance": [],
      "authorship_tag": "ABX9TyPmU8qKHoQeOM8j7V5haWeE",
      "include_colab_link": true
    },
    "kernelspec": {
      "name": "python3",
      "display_name": "Python 3"
    },
    "language_info": {
      "name": "python"
    },
    "accelerator": "GPU",
    "gpuClass": "standard"
  },
  "cells": [
    {
      "cell_type": "markdown",
      "metadata": {
        "id": "view-in-github",
        "colab_type": "text"
      },
      "source": [
        "<a href=\"https://colab.research.google.com/github/ashishsaini01/Anomaly_detection_using_autoencoders/blob/main/laten_space_siamese_network.ipynb\" target=\"_parent\"><img src=\"https://colab.research.google.com/assets/colab-badge.svg\" alt=\"Open In Colab\"/></a>"
      ]
    },
    {
      "cell_type": "code",
      "execution_count": 1,
      "metadata": {
        "id": "DD6L5YIxoAQG"
      },
      "outputs": [],
      "source": [
        "import numpy as np\n",
        "import tensorflow as tf\n",
        "import tensorflow.keras.backend as k\n",
        "import matplotlib.pyplot as plt\n",
        "import random\n",
        "import cv2\n",
        "\n",
        "from google.colab.patches import cv2_imshow\n",
        "from skimage.feature import hog\n",
        "from skimage import color"
      ]
    },
    {
      "cell_type": "code",
      "source": [
        "# mounting google drive for easy data reading\n",
        "from google.colab import drive\n",
        "drive.mount('/content/drive')"
      ],
      "metadata": {
        "colab": {
          "base_uri": "https://localhost:8080/"
        },
        "id": "g1gYjJPUoJZa",
        "outputId": "f9cabe83-fd54-4f74-e6b0-cf2602e7d58e"
      },
      "execution_count": 2,
      "outputs": [
        {
          "output_type": "stream",
          "name": "stdout",
          "text": [
            "Drive already mounted at /content/drive; to attempt to forcibly remount, call drive.mount(\"/content/drive\", force_remount=True).\n"
          ]
        }
      ]
    },
    {
      "cell_type": "code",
      "source": [
        "data = np.load('/content/drive/MyDrive/light_on_0.npz')\n",
        "# print(data.files)\n",
        "x, g, tx, ty, i, gi, ti = data['x'], data['gx'], data['tx'], data['tn'], data['i'], data['gi'], data['ti']"
      ],
      "metadata": {
        "id": "_6qR3G-loLMX"
      },
      "execution_count": 16,
      "outputs": []
    },
    {
      "cell_type": "code",
      "source": [
        "x.shape, g.shape, tx.shape"
      ],
      "metadata": {
        "colab": {
          "base_uri": "https://localhost:8080/"
        },
        "id": "AF4uZzEAoN_Z",
        "outputId": "e2e8d7b6-f472-46cd-a45f-c6e315d52ced"
      },
      "execution_count": 6,
      "outputs": [
        {
          "output_type": "execute_result",
          "data": {
            "text/plain": [
              "((1500, 128, 384, 3), (101, 128, 384, 3), (404, 128, 384, 3))"
            ]
          },
          "metadata": {},
          "execution_count": 6
        }
      ]
    },
    {
      "cell_type": "code",
      "source": [
        "# normalize\n",
        "x_norm = x/255\n",
        "g_norm = g/255\n",
        "tx_norm = tx/255"
      ],
      "metadata": {
        "id": "GU3V1eMy7ehN"
      },
      "execution_count": 17,
      "outputs": []
    },
    {
      "cell_type": "code",
      "source": [
        "encoding_dim = 128\n",
        "input_img = tf.keras.layers.Input(shape = x_norm.shape[1:]) # input layer\n",
        "\n",
        "# encoder\n",
        "encoded = tf.keras.layers.Conv2D(encoding_dim, kernel_size = (5, 5), padding = 'same', strides = 2,  activation = 'relu')(input_img)\n",
        "encoded = tf.keras.layers.Conv2D(encoding_dim, kernel_size = (3, 3), padding = 'same', activation = 'relu')(encoded)\n",
        "encoded = tf.keras.layers.MaxPool2D(pool_size = (2, 2),)(encoded)\n",
        "encoded = tf.keras.layers.Conv2D(encoding_dim/2, kernel_size = (3, 3), padding = 'same', activation = 'relu')(encoded)\n",
        "#encoded = tf.keras.layers.MaxPool2D(pool_size = (2, 2),)(encoded)\n",
        "encoded = tf.keras.layers.Conv2D(encoding_dim/4, kernel_size = (3, 3), padding = 'same', activation = 'relu')(encoded)\n",
        "encoded = tf.keras.layers.Conv2D(encoding_dim/8, kernel_size = (3, 3), padding = 'same', activation = 'relu')(encoded)\n",
        "encoded = tf.keras.layers.Conv2D(3, kernel_size = (3, 3), padding = 'same', activation = 'relu')(encoded)\n",
        "\n",
        "encoder = tf.keras.Model(input_img, encoded) # this maps an input to it's encoded representation"
      ],
      "metadata": {
        "id": "UHO1_TGWwKD9"
      },
      "execution_count": 25,
      "outputs": []
    },
    {
      "cell_type": "code",
      "source": [
        "# latent representaion of x, g, tx\n",
        "x_latent = encoder.predict(x_norm)\n",
        "g_latent = encoder.predict(g_norm)\n",
        "tx_latent = encoder.predict(tx_norm)"
      ],
      "metadata": {
        "colab": {
          "base_uri": "https://localhost:8080/"
        },
        "id": "cLZJNPIj-lHJ",
        "outputId": "8d361583-3d88-4f72-bc17-00c3f99eef9f"
      },
      "execution_count": 26,
      "outputs": [
        {
          "output_type": "stream",
          "name": "stdout",
          "text": [
            "47/47 [==============================] - 1s 23ms/step\n",
            "4/4 [==============================] - 0s 25ms/step\n",
            "13/13 [==============================] - 0s 24ms/step\n"
          ]
        }
      ]
    },
    {
      "cell_type": "code",
      "source": [
        "# saving encoded representation\n",
        "np.savez_compressed(\"/content/drive/MyDrive/light_on_latent_0.npz\", x_latent = x_latent, g_latent = g_latent, tx_latent = tx_latent, ty = ty, i = i, gi = gi, ti = ti)"
      ],
      "metadata": {
        "id": "uxy_55oyHCM5"
      },
      "execution_count": 32,
      "outputs": []
    },
    {
      "cell_type": "code",
      "source": [
        "data = np.load('/content/drive/MyDrive/light_on_latent_0.npz')\n",
        "# print(data.files)\n",
        "x_latent, g_latent, tx_latent, ty, i, gi, ti = data['x_latent'], data['g_latent'], data['tx_latent'], data['ty'], data['i'], data['gi'], data['ti']"
      ],
      "metadata": {
        "id": "Gd_ZVcaMJ7Uh"
      },
      "execution_count": 5,
      "outputs": []
    },
    {
      "cell_type": "code",
      "source": [
        "x_latent.shape, g_latent.shape, tx_latent.shape"
      ],
      "metadata": {
        "colab": {
          "base_uri": "https://localhost:8080/"
        },
        "id": "5MNxGaS6-22x",
        "outputId": "8eb21171-2325-4b49-84c4-4cf8eeb5c2c2"
      },
      "execution_count": 6,
      "outputs": [
        {
          "output_type": "execute_result",
          "data": {
            "text/plain": [
              "((1500, 32, 96, 3), (101, 32, 96, 3), (404, 32, 96, 3))"
            ]
          },
          "metadata": {},
          "execution_count": 6
        }
      ]
    },
    {
      "cell_type": "code",
      "source": [
        "# training siamene network on encoded representation of input"
      ],
      "metadata": {
        "id": "aJHhq3fOBg1O"
      },
      "execution_count": null,
      "outputs": []
    },
    {
      "cell_type": "code",
      "source": [
        "# creating batchs for traning (anchor, positive, and, negative (for triplet loss))\n",
        "def create_batch(batch_size=500):\n",
        "    x_anchors = np.zeros((batch_size, 32, 96, 3))\n",
        "    x_positives = np.zeros((batch_size, 32, 96, 3))\n",
        "    x_negatives = np.zeros((batch_size, 32, 96, 3))\n",
        "    \n",
        "    for j in range(0, batch_size):\n",
        "        # We need to find an anchor, a positive example and a negative example\n",
        "        random_index = random.randint(0, x_latent.shape[0] - 1)\n",
        "        x_anchor = x_latent[random_index]\n",
        "\n",
        "        pos_index = random.randint(0, x_latent.shape[0] - 1)\n",
        "\n",
        "        while pos_index == random_index or i[pos_index] != i[random_index]:\n",
        "          pos_index = random.randint(0, x_latent.shape[0] - 1)\n",
        "\n",
        "        x_positive = x_latent[pos_index]  # also for the same pallet block\n",
        "        \n",
        "        random_index_neg = random.randint(0, x_latent.shape[0] - 1)\n",
        "\n",
        "        while random_index_neg == random_index or i[random_index] == i[random_index_neg]:\n",
        "          random_index_neg = random.randint(0, x_latent.shape[0] - 1)\n",
        "         \n",
        "        x_negative = x_latent[random_index_neg]\n",
        "        \n",
        "        x_anchors[j] = x_anchor\n",
        "        x_positives[j] = x_positive\n",
        "        x_negatives[j] = x_negative\n",
        "        \n",
        "    x_anchors = np.expand_dims(x_anchors, axis = 1)\n",
        "    x_positives = np.expand_dims(x_positives, axis = 1)\n",
        "    x_negatives = np.expand_dims(x_negatives, axis = 1)\n",
        "\n",
        "    k_con = np.concatenate([x_anchors, x_positives, x_negatives], axis = 1)\n",
        "        \n",
        "    return k_con"
      ],
      "metadata": {
        "id": "NeQOddhT-7E5"
      },
      "execution_count": 7,
      "outputs": []
    },
    {
      "cell_type": "code",
      "source": [
        "# embeding model\n",
        "emb_size = 64\n",
        "\n",
        "embedding_model = tf.keras.models.Sequential([\n",
        "    tf.keras.layers.Conv2D(emb_size, kernel_size = (5, 5), strides = 2, padding = 'same', activation = 'relu', input_shape = (32, 96, 3)),\n",
        "    tf.keras.layers.BatchNormalization(),\n",
        "    tf.keras.layers.Conv2D(emb_size, kernel_size = (3, 3), padding = 'same', activation = 'relu'),\n",
        "    tf.keras.layers.MaxPool2D(pool_size = (2, 2)),\n",
        "    tf.keras.layers.BatchNormalization(),\n",
        "    tf.keras.layers.Conv2D(emb_size/2, kernel_size = (3, 3), padding = 'same', activation = 'relu'),\n",
        "    tf.keras.layers.MaxPool2D(pool_size = (2, 2)),\n",
        "    tf.keras.layers.BatchNormalization(),\n",
        "    tf.keras.layers.Conv2D(emb_size/4, kernel_size = (3, 3), padding = 'same', activation = 'relu'),\n",
        "    tf.keras.layers.BatchNormalization(),\n",
        "    tf.keras.layers.Conv2D(emb_size/4, kernel_size = (3, 3), padding = 'same', activation = 'relu'),\n",
        "    tf.keras.layers.BatchNormalization(),\n",
        "    tf.keras.layers.Dropout(0.5),\n",
        "    tf.keras.layers.Flatten(),\n",
        "    tf.keras.layers.Dense(128, activation = 'relu'),\n",
        "    tf.keras.layers.Dense(128, activation = 'relu'),\n",
        "    tf.keras.layers.Dense(30)\n",
        "])\n",
        "\n",
        "embedding_model.summary()"
      ],
      "metadata": {
        "colab": {
          "base_uri": "https://localhost:8080/"
        },
        "id": "bus44J6pBfTE",
        "outputId": "3bbb2f08-9072-4e4e-d282-81fb4be25455"
      },
      "execution_count": 8,
      "outputs": [
        {
          "output_type": "stream",
          "name": "stdout",
          "text": [
            "Model: \"sequential\"\n",
            "_________________________________________________________________\n",
            " Layer (type)                Output Shape              Param #   \n",
            "=================================================================\n",
            " conv2d (Conv2D)             (None, 16, 48, 64)        4864      \n",
            "                                                                 \n",
            " batch_normalization (BatchN  (None, 16, 48, 64)       256       \n",
            " ormalization)                                                   \n",
            "                                                                 \n",
            " conv2d_1 (Conv2D)           (None, 16, 48, 64)        36928     \n",
            "                                                                 \n",
            " max_pooling2d (MaxPooling2D  (None, 8, 24, 64)        0         \n",
            " )                                                               \n",
            "                                                                 \n",
            " batch_normalization_1 (Batc  (None, 8, 24, 64)        256       \n",
            " hNormalization)                                                 \n",
            "                                                                 \n",
            " conv2d_2 (Conv2D)           (None, 8, 24, 32)         18464     \n",
            "                                                                 \n",
            " max_pooling2d_1 (MaxPooling  (None, 4, 12, 32)        0         \n",
            " 2D)                                                             \n",
            "                                                                 \n",
            " batch_normalization_2 (Batc  (None, 4, 12, 32)        128       \n",
            " hNormalization)                                                 \n",
            "                                                                 \n",
            " conv2d_3 (Conv2D)           (None, 4, 12, 16)         4624      \n",
            "                                                                 \n",
            " batch_normalization_3 (Batc  (None, 4, 12, 16)        64        \n",
            " hNormalization)                                                 \n",
            "                                                                 \n",
            " conv2d_4 (Conv2D)           (None, 4, 12, 16)         2320      \n",
            "                                                                 \n",
            " batch_normalization_4 (Batc  (None, 4, 12, 16)        64        \n",
            " hNormalization)                                                 \n",
            "                                                                 \n",
            " dropout (Dropout)           (None, 4, 12, 16)         0         \n",
            "                                                                 \n",
            " flatten (Flatten)           (None, 768)               0         \n",
            "                                                                 \n",
            " dense (Dense)               (None, 128)               98432     \n",
            "                                                                 \n",
            " dense_1 (Dense)             (None, 128)               16512     \n",
            "                                                                 \n",
            " dense_2 (Dense)             (None, 30)                3870      \n",
            "                                                                 \n",
            "=================================================================\n",
            "Total params: 186,782\n",
            "Trainable params: 186,398\n",
            "Non-trainable params: 384\n",
            "_________________________________________________________________\n"
          ]
        }
      ]
    },
    {
      "cell_type": "code",
      "source": [
        "# siamese network\n",
        "siamese_input = tf.keras.Input(shape = (3, 32, 96, 3))\n",
        "input_anchor =  siamese_input[:, 0]                                              #tf.keras.layers.Input(shape=(32, 96, 3))\n",
        "input_positive = siamese_input[:, 1]                                             #tf.keras.layers.Input(shape=(32, 96, 3))\n",
        "input_negative = siamese_input[:, 2]                                             #tf.keras.layers.Input(shape=(32, 96, 3))\n",
        "\n",
        "embedding_anchor = embedding_model(input_anchor)\n",
        "embedding_positive = embedding_model(input_positive)\n",
        "embedding_negative = embedding_model(input_negative)\n",
        "\n",
        "embedding_anchor = k.expand_dims(embedding_anchor, 1)\n",
        "embedding_negative = k.expand_dims(embedding_negative, 1)\n",
        "embedding_positive = k.expand_dims(embedding_positive, 1)\n",
        "\n",
        "\n",
        "output = tf.keras.layers.concatenate([embedding_anchor, embedding_positive, embedding_negative], axis=1) \n",
        "\n",
        "model = tf.keras.models.Model(siamese_input, output)\n",
        "model.summary()\n",
        "     "
      ],
      "metadata": {
        "colab": {
          "base_uri": "https://localhost:8080/"
        },
        "id": "bACfws5MGk8X",
        "outputId": "fd241ba6-f850-44fb-e21e-83f08847a67b"
      },
      "execution_count": 9,
      "outputs": [
        {
          "output_type": "stream",
          "name": "stdout",
          "text": [
            "Model: \"model\"\n",
            "__________________________________________________________________________________________________\n",
            " Layer (type)                   Output Shape         Param #     Connected to                     \n",
            "==================================================================================================\n",
            " input_1 (InputLayer)           [(None, 3, 32, 96,   0           []                               \n",
            "                                3)]                                                               \n",
            "                                                                                                  \n",
            " tf.__operators__.getitem (Slic  (None, 32, 96, 3)   0           ['input_1[0][0]']                \n",
            " ingOpLambda)                                                                                     \n",
            "                                                                                                  \n",
            " tf.__operators__.getitem_1 (Sl  (None, 32, 96, 3)   0           ['input_1[0][0]']                \n",
            " icingOpLambda)                                                                                   \n",
            "                                                                                                  \n",
            " tf.__operators__.getitem_2 (Sl  (None, 32, 96, 3)   0           ['input_1[0][0]']                \n",
            " icingOpLambda)                                                                                   \n",
            "                                                                                                  \n",
            " sequential (Sequential)        (None, 30)           186782      ['tf.__operators__.getitem[0][0]'\n",
            "                                                                 , 'tf.__operators__.getitem_1[0][\n",
            "                                                                 0]',                             \n",
            "                                                                  'tf.__operators__.getitem_2[0][0\n",
            "                                                                 ]']                              \n",
            "                                                                                                  \n",
            " tf.expand_dims (TFOpLambda)    (None, 1, 30)        0           ['sequential[0][0]']             \n",
            "                                                                                                  \n",
            " tf.expand_dims_2 (TFOpLambda)  (None, 1, 30)        0           ['sequential[1][0]']             \n",
            "                                                                                                  \n",
            " tf.expand_dims_1 (TFOpLambda)  (None, 1, 30)        0           ['sequential[2][0]']             \n",
            "                                                                                                  \n",
            " concatenate (Concatenate)      (None, 3, 30)        0           ['tf.expand_dims[0][0]',         \n",
            "                                                                  'tf.expand_dims_2[0][0]',       \n",
            "                                                                  'tf.expand_dims_1[0][0]']       \n",
            "                                                                                                  \n",
            "==================================================================================================\n",
            "Total params: 186,782\n",
            "Trainable params: 186,398\n",
            "Non-trainable params: 384\n",
            "__________________________________________________________________________________________________\n"
          ]
        }
      ]
    },
    {
      "cell_type": "code",
      "source": [
        "alpha = 0.05\n",
        "\n",
        "pos = k.mean((embedding_anchor - embedding_positive)**2, axis = 1)\n",
        "neg = k.mean((embedding_anchor - embedding_negative)**2, axis = 1)\n",
        "\n",
        "loss = k.mean(k.relu(pos - neg + alpha)) "
      ],
      "metadata": {
        "id": "0AK42G2dIM-Y"
      },
      "execution_count": 10,
      "outputs": []
    },
    {
      "cell_type": "code",
      "source": [
        "batch_size = 7000\n",
        "x_train = create_batch(batch_size)\n",
        "x_train = np.array(x_train)\n",
        "x_train.shape"
      ],
      "metadata": {
        "colab": {
          "base_uri": "https://localhost:8080/"
        },
        "id": "6oSDa664JIgA",
        "outputId": "087489a0-5f20-4759-f410-ca580eab6436"
      },
      "execution_count": 11,
      "outputs": [
        {
          "output_type": "execute_result",
          "data": {
            "text/plain": [
              "(7000, 3, 32, 96, 3)"
            ]
          },
          "metadata": {},
          "execution_count": 11
        }
      ]
    },
    {
      "cell_type": "code",
      "source": [
        "# batch_size = 2048\n",
        "epochs = 25\n",
        "# steps_per_epoch = 25\n",
        "\n",
        "model.add_loss(loss)\n",
        "\n",
        "\n",
        "model.compile(optimizer='adam')\n",
        "\n",
        "callback = tf.keras.callbacks.EarlyStopping(monitor = 'loss', patience = 3, mode = 'min') # for early stopping\n",
        "\n",
        "history = model.fit(\n",
        "    x_train,\n",
        "    batch_size = 100,\n",
        "    epochs=epochs, verbose=True, callbacks = [callback], validation_split = 0.2)"
      ],
      "metadata": {
        "colab": {
          "base_uri": "https://localhost:8080/"
        },
        "id": "3CDx41eqJCr1",
        "outputId": "fd58e208-5eeb-43f3-8699-a0d0f7523874"
      },
      "execution_count": 12,
      "outputs": [
        {
          "output_type": "stream",
          "name": "stdout",
          "text": [
            "Epoch 1/25\n",
            "56/56 [==============================] - 20s 66ms/step - loss: 0.3118 - val_loss: 0.0500\n",
            "Epoch 2/25\n",
            "56/56 [==============================] - 3s 54ms/step - loss: 0.0526 - val_loss: 0.0500\n",
            "Epoch 3/25\n",
            "56/56 [==============================] - 3s 54ms/step - loss: 0.0504 - val_loss: 0.0500\n",
            "Epoch 4/25\n",
            "56/56 [==============================] - 3s 45ms/step - loss: 0.0501 - val_loss: 0.0500\n",
            "Epoch 5/25\n",
            "56/56 [==============================] - 3s 56ms/step - loss: 0.0501 - val_loss: 0.0500\n",
            "Epoch 6/25\n",
            "56/56 [==============================] - 4s 79ms/step - loss: 0.0500 - val_loss: 0.0500\n",
            "Epoch 7/25\n",
            "56/56 [==============================] - 3s 60ms/step - loss: 0.0500 - val_loss: 0.0500\n",
            "Epoch 8/25\n",
            "56/56 [==============================] - 3s 49ms/step - loss: 0.0500 - val_loss: 0.0500\n",
            "Epoch 9/25\n",
            "56/56 [==============================] - 3s 46ms/step - loss: 0.0500 - val_loss: 0.0500\n",
            "Epoch 10/25\n",
            "56/56 [==============================] - 3s 46ms/step - loss: 0.0500 - val_loss: 0.0500\n",
            "Epoch 11/25\n",
            "56/56 [==============================] - 3s 46ms/step - loss: 0.0495 - val_loss: 0.0482\n",
            "Epoch 12/25\n",
            "56/56 [==============================] - 3s 46ms/step - loss: 0.0449 - val_loss: 0.0413\n",
            "Epoch 13/25\n",
            "56/56 [==============================] - 2s 44ms/step - loss: 0.0368 - val_loss: 0.0312\n",
            "Epoch 14/25\n",
            "56/56 [==============================] - 3s 47ms/step - loss: 0.0320 - val_loss: 0.0309\n",
            "Epoch 15/25\n",
            "56/56 [==============================] - 3s 45ms/step - loss: 0.0285 - val_loss: 0.0329\n",
            "Epoch 16/25\n",
            "56/56 [==============================] - 3s 50ms/step - loss: 0.0242 - val_loss: 0.0411\n",
            "Epoch 17/25\n",
            "56/56 [==============================] - 2s 44ms/step - loss: 0.0218 - val_loss: 0.0330\n",
            "Epoch 18/25\n",
            "56/56 [==============================] - 3s 50ms/step - loss: 0.0199 - val_loss: 0.0201\n",
            "Epoch 19/25\n",
            "56/56 [==============================] - 2s 45ms/step - loss: 0.0199 - val_loss: 0.0174\n",
            "Epoch 20/25\n",
            "56/56 [==============================] - 3s 47ms/step - loss: 0.0185 - val_loss: 0.0174\n",
            "Epoch 21/25\n",
            "56/56 [==============================] - 3s 50ms/step - loss: 0.0190 - val_loss: 0.0267\n",
            "Epoch 22/25\n",
            "56/56 [==============================] - 2s 44ms/step - loss: 0.0173 - val_loss: 0.0147\n",
            "Epoch 23/25\n",
            "56/56 [==============================] - 3s 47ms/step - loss: 0.0166 - val_loss: 0.0501\n",
            "Epoch 24/25\n",
            "56/56 [==============================] - 3s 47ms/step - loss: 0.0165 - val_loss: 0.0266\n",
            "Epoch 25/25\n",
            "56/56 [==============================] - 3s 45ms/step - loss: 0.0164 - val_loss: 0.0193\n"
          ]
        }
      ]
    },
    {
      "cell_type": "code",
      "source": [
        "# ploting \n",
        "plt.plot(history.history['loss'])\n",
        "plt.plot(history.history['val_loss'])\n",
        "plt.xlabel('Epochs')\n",
        "plt.ylabel('Loss')\n",
        "\n",
        "plt.legend(['loss', 'val_loss'])\n",
        "plt.show()"
      ],
      "metadata": {
        "colab": {
          "base_uri": "https://localhost:8080/",
          "height": 279
        },
        "id": "UAknrzpQKioG",
        "outputId": "5aff9fc9-7252-4f39-ef55-ed37fa25ae35"
      },
      "execution_count": 13,
      "outputs": [
        {
          "output_type": "display_data",
          "data": {
            "text/plain": [
              "<Figure size 432x288 with 1 Axes>"
            ],
            "image/png": "[encoded data removed]"
          },
          "metadata": {
            "needs_background": "light"
          }
        }
      ]
    },
    {
      "cell_type": "code",
      "source": [
        "# predictions\n",
        "x_predict = embedding_model.predict(x_latent)\n",
        "g_predict = embedding_model.predict(g_latent)\n",
        "t_predict = embedding_model.predict(tx_latent)"
      ],
      "metadata": {
        "colab": {
          "base_uri": "https://localhost:8080/"
        },
        "id": "ihCMEJnRKp9N",
        "outputId": "37c0c10a-9d3f-4306-9931-34cd304b98a5"
      },
      "execution_count": 14,
      "outputs": [
        {
          "output_type": "stream",
          "name": "stdout",
          "text": [
            "47/47 [==============================] - 1s 8ms/step\n",
            "4/4 [==============================] - 0s 37ms/step\n",
            "13/13 [==============================] - 0s 10ms/step\n"
          ]
        }
      ]
    },
    {
      "cell_type": "code",
      "source": [
        "# saving siamese predictions\n",
        "np.savez_compressed(\"/content/drive/MyDrive/light_on_siamese_0.npz\", x_predict = x_predict, g_predict = g_predict, t_predict = t_predict, ty = ty, i = i, gi = gi, ti = ti)"
      ],
      "metadata": {
        "id": "3FH4WNAoLhUV"
      },
      "execution_count": 15,
      "outputs": []
    },
    {
      "cell_type": "code",
      "source": [],
      "metadata": {
        "id": "zWjVCfNML0tA"
      },
      "execution_count": null,
      "outputs": []
    }
  ]
}