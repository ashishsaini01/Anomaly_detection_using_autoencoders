{
 "cells": [
  {
   "cell_type": "code",
   "execution_count": 16,
   "id": "47c701f5",
   "metadata": {},
   "outputs": [],
   "source": [
    "import json\n",
    "import numpy as np\n",
    "import pandas as pd\n",
    "import glob\n",
    "import re\n",
    "import cv2\n",
    "import warnings\n",
    "warnings.filterwarnings('ignore')"
   ]
  },
  {
   "cell_type": "code",
   "execution_count": 2,
   "id": "1d9bd362",
   "metadata": {},
   "outputs": [],
   "source": [
    "# for 9_43\n",
    "data_9_43 = pd.read_csv('/Users/ashishsaini/Downloads/9_43/new_data.csv')\n",
    "\n",
    "# considering rows which has vissible == 1\n",
    "data_9_43_visible = data_9_43[data_9_43['Visible'] != 0]\n",
    "data_9_43_visible['ObjectName'] = data_9_43_visible['ObjectName'].apply(lambda x: x.split('_')[0].lower())"
   ]
  },
  {
   "cell_type": "code",
   "execution_count": null,
   "id": "30708d12",
   "metadata": {},
   "outputs": [],
   "source": [
    "# for 10_00\n",
    "bop_csv = pd.read_csv('/Users/ashishsaini/Downloads/10_00 (2)/new_data.csv')\n",
    "bop_csv_visible = bop_csv[bop_csv['Visible'] != 0]"
   ]
  },
  {
   "cell_type": "code",
   "execution_count": 3,
   "id": "f276b878",
   "metadata": {},
   "outputs": [],
   "source": [
    "# accessing names of all images\n",
    "files = sorted(glob.glob('/Users/ashishsaini/Downloads/9_43/images/*.jpg'))"
   ]
  },
  {
   "cell_type": "code",
   "execution_count": 4,
   "id": "98f022f5",
   "metadata": {},
   "outputs": [],
   "source": [
    "# function for height and width of image\n",
    "def get_height_width(path):\n",
    "    img = cv2.imread(path)\n",
    "    height = img.shape[0]\n",
    "    width = img.shape[1]\n",
    "    return height, width"
   ]
  },
  {
   "cell_type": "code",
   "execution_count": 20,
   "id": "5794ffa3",
   "metadata": {},
   "outputs": [
    {
     "data": {
      "text/plain": [
       "'9431'"
      ]
     },
     "execution_count": 20,
     "metadata": {},
     "output_type": "execute_result"
    }
   ],
   "source": [
    "'943' + files[1].split('/')[-1].split('.')[0]"
   ]
  },
  {
   "cell_type": "code",
   "execution_count": 21,
   "id": "3e5acaba",
   "metadata": {},
   "outputs": [],
   "source": [
    "# making dict for images\n",
    "images = []\n",
    "for i in range(len(files)):\n",
    "    images_dict = dict.fromkeys(['id', 'dataset_id', 'path', 'height', 'width', 'file_name'],)\n",
    "    images_dict['id'] = int('943' + files[i].split('/')[-1].split('.')[0]) # image_id with dataset_id\n",
    "    images_dict['dataset_id'] = '9_43'\n",
    "    images_dict['path'] = files[i]\n",
    "    height, width = get_height_width(files[i])\n",
    "    images_dict['height'] = height\n",
    "    images_dict['width'] = width\n",
    "    images_dict['file_name'] = files[0].split('/')[-1]\n",
    "    \n",
    "    images.append(images_dict)"
   ]
  },
  {
   "cell_type": "code",
   "execution_count": 35,
   "id": "9c05ffe8",
   "metadata": {},
   "outputs": [
    {
     "data": {
      "text/plain": [
       "{'id': 9430,\n",
       " 'dataset_id': '9_43',\n",
       " 'path': '/Users/ashishsaini/Downloads/9_43/images/0.jpg',\n",
       " 'height': 1024,\n",
       " 'width': 1296,\n",
       " 'file_name': '0.jpg'}"
      ]
     },
     "execution_count": 35,
     "metadata": {},
     "output_type": "execute_result"
    }
   ],
   "source": [
    "images[0]"
   ]
  },
  {
   "cell_type": "code",
   "execution_count": 22,
   "id": "870b72de",
   "metadata": {},
   "outputs": [],
   "source": [
    "# dict for category mapping \n",
    "category = {'small_load_carrier' : 3,\n",
    "'forklift' : 5,\n",
    "'pallet' : 7,\n",
    "'stillage' : 10,\n",
    "'pallet_truck' : 11}\n",
    "\n",
    "# area of the box\n",
    "def area(box):\n",
    "    height = box[-1]\n",
    "    width = box[-2]\n",
    "    return width * height\n",
    "\n",
    "# segmentation of box (by using x_min, x_max, y_min, y_max)\n",
    "def segmentation(box):\n",
    "    x_min = box[1] \n",
    "    y_min = box[2]\n",
    "    height = box[-1]\n",
    "    width = box[-2]\n",
    "    x_max = width + x_min\n",
    "    y_max = height + y_min\n",
    "    \n",
    "    return [x_min, y_min, x_min, y_min + y_max, x_min + x_max, y_min + y_max, x_min + x_max, y_max]"
   ]
  },
  {
   "cell_type": "code",
   "execution_count": 23,
   "id": "af1bf40b",
   "metadata": {},
   "outputs": [],
   "source": [
    "# making dict for annotations \n",
    "\n",
    "annotations = []\n",
    "for i in range(data_9_43_visible.shape[0]):\n",
    "    \n",
    "    file_name = data_9_43_visible.iloc[i]['fileName'] # for image id\n",
    "    object_name = data_9_43_visible.iloc[i]['ObjectName'] # category id\n",
    "    int_list = data_9_43_visible.iloc[i]['BoundingBox'] # bounding box\n",
    "    box = int_list.strip('][').split(', ') # converting '[]' representation to []\n",
    "    box = [int(i) for i in box] # converting values to int\n",
    "    \n",
    "    annotations_dict = dict.fromkeys(['id', 'image_id', 'category_id', 'segmentation', 'area', 'bbox', \n",
    "                                'iscrowd', 'isbbox', 'color', 'metadata'], )\n",
    "    annotations_dict['id'] = i\n",
    "    annotations_dict['image_id'] = int(file_name.split('/')[-1].split('.')[0])\n",
    "    annotations_dict['category_id'] = category[object_name]\n",
    "    annotations_dict['segmentation'] = [segmentation(box)]\n",
    "    annotations_dict['area'] = area(box)\n",
    "    annotations_dict['bbox'] = box\n",
    "    annotations_dict['iscrowd'] = False\n",
    "    annotations_dict['isbbox'] = True\n",
    "    annotations_dict['color'] = None\n",
    "    annotations_dict['metadata'] = {} \n",
    "    \n",
    "    annotations.append(annotations_dict)"
   ]
  },
  {
   "cell_type": "code",
   "execution_count": 18,
   "id": "dcc21f5c",
   "metadata": {},
   "outputs": [
    {
     "data": {
      "text/plain": [
       "(2795, 11332)"
      ]
     },
     "execution_count": 18,
     "metadata": {},
     "output_type": "execute_result"
    }
   ],
   "source": [
    "len(images), len(annotations)"
   ]
  },
  {
   "cell_type": "code",
   "execution_count": 29,
   "id": "ac1373ea",
   "metadata": {},
   "outputs": [
    {
     "data": {
      "text/plain": [
       "{'id': 9430,\n",
       " 'dataset_id': '9_43',\n",
       " 'path': '/Users/ashishsaini/Downloads/9_43/images/0.jpg',\n",
       " 'height': 1024,\n",
       " 'width': 1296,\n",
       " 'file_name': '0.jpg'}"
      ]
     },
     "execution_count": 29,
     "metadata": {},
     "output_type": "execute_result"
    }
   ],
   "source": [
    "images[0]"
   ]
  },
  {
   "cell_type": "code",
   "execution_count": 25,
   "id": "f98eba16",
   "metadata": {},
   "outputs": [],
   "source": [
    "dump = json.dumps(images)"
   ]
  },
  {
   "cell_type": "code",
   "execution_count": 30,
   "id": "998786cf",
   "metadata": {},
   "outputs": [],
   "source": [
    "import pickle"
   ]
  },
  {
   "cell_type": "code",
   "execution_count": 31,
   "id": "5b070619",
   "metadata": {},
   "outputs": [],
   "source": [
    "with open('images_9_43.pkl', 'wb') as f:\n",
    "    pickle.dump(images, f)"
   ]
  },
  {
   "cell_type": "code",
   "execution_count": 32,
   "id": "5dd3e2e6",
   "metadata": {},
   "outputs": [],
   "source": [
    "with open('annotations_9_43.pkl', 'wb') as f:\n",
    "    pickle.dump(annotations, f)"
   ]
  },
  {
   "cell_type": "code",
   "execution_count": 34,
   "id": "a4b15364",
   "metadata": {},
   "outputs": [
    {
     "ename": "TypeError",
     "evalue": "load() takes exactly 1 positional argument (2 given)",
     "output_type": "error",
     "traceback": [
      "\u001b[0;31m---------------------------------------------------------------------------\u001b[0m",
      "\u001b[0;31mTypeError\u001b[0m                                 Traceback (most recent call last)",
      "Cell \u001b[0;32mIn [34], line 1\u001b[0m\n\u001b[0;32m----> 1\u001b[0m \u001b[43mpickle\u001b[49m\u001b[38;5;241;43m.\u001b[39;49m\u001b[43mload\u001b[49m\u001b[43m(\u001b[49m\u001b[38;5;124;43m'\u001b[39;49m\u001b[38;5;124;43mannotations_9_43.pkl\u001b[39;49m\u001b[38;5;124;43m'\u001b[39;49m\u001b[43m,\u001b[49m\u001b[43m \u001b[49m\u001b[38;5;124;43m'\u001b[39;49m\u001b[38;5;124;43mrd\u001b[39;49m\u001b[38;5;124;43m'\u001b[39;49m\u001b[43m)\u001b[49m\n",
      "\u001b[0;31mTypeError\u001b[0m: load() takes exactly 1 positional argument (2 given)"
     ]
    }
   ],
   "source": [
    "pickle.load('annotations_9_43.pkl')"
   ]
  },
  {
   "cell_type": "code",
   "execution_count": null,
   "id": "8b5ea12e",
   "metadata": {},
   "outputs": [],
   "source": [
    "# saving updated jason files\n",
    "with open('images_9_34.jason', 'w') as f:\n",
    "    json.dump(images, f)"
   ]
  }
 ],
 "metadata": {
  "kernelspec": {
   "display_name": "Python 3 (ipykernel)",
   "language": "python",
   "name": "python3"
  },
  "language_info": {
   "codemirror_mode": {
    "name": "ipython",
    "version": 3
   },
   "file_extension": ".py",
   "mimetype": "text/x-python",
   "name": "python",
   "nbconvert_exporter": "python",
   "pygments_lexer": "ipython3",
   "version": "3.9.13"
  }
 },
 "nbformat": 4,
 "nbformat_minor": 5
}
